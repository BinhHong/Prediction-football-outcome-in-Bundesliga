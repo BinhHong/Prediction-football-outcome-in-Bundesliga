{
 "cells": [
  {
   "cell_type": "code",
   "execution_count": 5,
   "id": "5c454cf0",
   "metadata": {},
   "outputs": [],
   "source": [
    "# import necessary packages\n",
    "import requests\n",
    "import numpy as np\n",
    "import pandas as pd\n",
    "from bs4 import BeautifulSoup\n",
    "import time\n",
    "from IPython.display import display\n",
    "from functools import reduce\n",
    "from tqdm import tqdm"
   ]
  },
  {
   "cell_type": "markdown",
   "id": "e344872e",
   "metadata": {},
   "source": [
    "# Scrape stats page and parse html"
   ]
  },
  {
   "cell_type": "code",
   "execution_count": 6,
   "id": "9ff82049",
   "metadata": {},
   "outputs": [],
   "source": [
    "# link to the standing table\n",
    "table = \"https://fbref.com/en/comps/20/Bundesliga-Stats\""
   ]
  },
  {
   "cell_type": "code",
   "execution_count": 7,
   "id": "3e2481c7",
   "metadata": {},
   "outputs": [],
   "source": [
    "# download html\n",
    "table_data = requests.get(table)\n",
    "time.sleep(1)"
   ]
  },
  {
   "cell_type": "code",
   "execution_count": 8,
   "id": "1a55d659",
   "metadata": {},
   "outputs": [],
   "source": [
    "# initialize a soup\n",
    "table_soup = BeautifulSoup(table_data.text)"
   ]
  },
  {
   "cell_type": "code",
   "execution_count": 9,
   "id": "1a01ec89",
   "metadata": {},
   "outputs": [
    {
     "data": {
      "text/plain": [
       "24"
      ]
     },
     "execution_count": 9,
     "metadata": {},
     "output_type": "execute_result"
    }
   ],
   "source": [
    "# select the whole table and check length\n",
    "len(table_soup.select(\"table.stats_table\"))"
   ]
  },
  {
   "cell_type": "markdown",
   "id": "23058a63",
   "metadata": {},
   "source": [
    "There are 24 elements, we need to check the ids"
   ]
  },
  {
   "cell_type": "code",
   "execution_count": 10,
   "id": "d9eae6ab",
   "metadata": {},
   "outputs": [
    {
     "name": "stdout",
     "output_type": "stream",
     "text": [
      "results2023-2024201_overall\n",
      "results2023-2024201_home_away\n",
      "stats_squads_standard_for\n",
      "stats_squads_standard_against\n",
      "stats_squads_keeper_for\n",
      "stats_squads_keeper_against\n",
      "stats_squads_keeper_adv_for\n",
      "stats_squads_keeper_adv_against\n",
      "stats_squads_shooting_for\n",
      "stats_squads_shooting_against\n",
      "stats_squads_passing_for\n",
      "stats_squads_passing_against\n",
      "stats_squads_passing_types_for\n",
      "stats_squads_passing_types_against\n",
      "stats_squads_gca_for\n",
      "stats_squads_gca_against\n",
      "stats_squads_defense_for\n",
      "stats_squads_defense_against\n",
      "stats_squads_possession_for\n",
      "stats_squads_possession_against\n",
      "stats_squads_playing_time_for\n",
      "stats_squads_playing_time_against\n",
      "stats_squads_misc_for\n",
      "stats_squads_misc_against\n"
     ]
    }
   ],
   "source": [
    "for element in table_soup.select(\"table.stats_table\"):\n",
    "    print(element.get('id'))"
   ]
  },
  {
   "cell_type": "code",
   "execution_count": 11,
   "id": "eb9c9ead",
   "metadata": {},
   "outputs": [],
   "source": [
    "# since we need overall stats, we choose the first element\n",
    "standings_table = table_soup.select('table.stats_table')[0]"
   ]
  },
  {
   "cell_type": "code",
   "execution_count": 12,
   "id": "a210e4cd",
   "metadata": {},
   "outputs": [],
   "source": [
    "# find all a-tags in standings_table\n",
    "a_tags = standings_table.find_all('a')"
   ]
  },
  {
   "cell_type": "code",
   "execution_count": 13,
   "id": "97567202",
   "metadata": {},
   "outputs": [],
   "source": [
    "# get all hrefs for each a-Tags\n",
    "hrefs = [tag.get('href') for tag in a_tags]"
   ]
  },
  {
   "cell_type": "code",
   "execution_count": 14,
   "id": "f1b091e2",
   "metadata": {},
   "outputs": [],
   "source": [
    "# filter a link with info of squads\n",
    "links = [link for link in hrefs if \"/squads/\" in link]"
   ]
  },
  {
   "cell_type": "code",
   "execution_count": 15,
   "id": "6c56ac13",
   "metadata": {},
   "outputs": [
    {
     "data": {
      "text/plain": [
       "['/en/squads/c7a9f859/Bayer-Leverkusen-Stats',\n",
       " '/en/squads/054efa67/Bayern-Munich-Stats',\n",
       " '/en/squads/598bc722/Stuttgart-Stats',\n",
       " '/en/squads/add600ae/Dortmund-Stats',\n",
       " '/en/squads/acbb6a5b/RB-Leipzig-Stats',\n",
       " '/en/squads/f0ac8ee6/Eintracht-Frankfurt-Stats',\n",
       " '/en/squads/a486e511/Freiburg-Stats',\n",
       " '/en/squads/033ea6b8/Hoffenheim-Stats',\n",
       " '/en/squads/18d9d2a7/Heidenheim-Stats',\n",
       " '/en/squads/62add3bf/Werder-Bremen-Stats',\n",
       " '/en/squads/0cdc4311/Augsburg-Stats',\n",
       " '/en/squads/4eaa11d7/Wolfsburg-Stats',\n",
       " '/en/squads/32f3ee20/Monchengladbach-Stats',\n",
       " '/en/squads/b42c6323/Bochum-Stats',\n",
       " '/en/squads/7a41008f/Union-Berlin-Stats',\n",
       " '/en/squads/bc357bf7/Koln-Stats',\n",
       " '/en/squads/a224b06a/Mainz-05-Stats',\n",
       " '/en/squads/6a6967fc/Darmstadt-98-Stats']"
      ]
     },
     "execution_count": 15,
     "metadata": {},
     "output_type": "execute_result"
    }
   ],
   "source": [
    "# show all links\n",
    "links"
   ]
  },
  {
   "cell_type": "code",
   "execution_count": 16,
   "id": "44fc11f7",
   "metadata": {},
   "outputs": [
    {
     "data": {
      "text/plain": [
       "18"
      ]
     },
     "execution_count": 16,
     "metadata": {},
     "output_type": "execute_result"
    }
   ],
   "source": [
    "len(links)"
   ]
  },
  {
   "cell_type": "code",
   "execution_count": 17,
   "id": "fa507e6c",
   "metadata": {},
   "outputs": [
    {
     "data": {
      "text/plain": [
       "['https://fbref.com/en/squads/c7a9f859/Bayer-Leverkusen-Stats',\n",
       " 'https://fbref.com/en/squads/054efa67/Bayern-Munich-Stats',\n",
       " 'https://fbref.com/en/squads/598bc722/Stuttgart-Stats',\n",
       " 'https://fbref.com/en/squads/add600ae/Dortmund-Stats',\n",
       " 'https://fbref.com/en/squads/acbb6a5b/RB-Leipzig-Stats',\n",
       " 'https://fbref.com/en/squads/f0ac8ee6/Eintracht-Frankfurt-Stats',\n",
       " 'https://fbref.com/en/squads/a486e511/Freiburg-Stats',\n",
       " 'https://fbref.com/en/squads/033ea6b8/Hoffenheim-Stats',\n",
       " 'https://fbref.com/en/squads/18d9d2a7/Heidenheim-Stats',\n",
       " 'https://fbref.com/en/squads/62add3bf/Werder-Bremen-Stats',\n",
       " 'https://fbref.com/en/squads/0cdc4311/Augsburg-Stats',\n",
       " 'https://fbref.com/en/squads/4eaa11d7/Wolfsburg-Stats',\n",
       " 'https://fbref.com/en/squads/32f3ee20/Monchengladbach-Stats',\n",
       " 'https://fbref.com/en/squads/b42c6323/Bochum-Stats',\n",
       " 'https://fbref.com/en/squads/7a41008f/Union-Berlin-Stats',\n",
       " 'https://fbref.com/en/squads/bc357bf7/Koln-Stats',\n",
       " 'https://fbref.com/en/squads/a224b06a/Mainz-05-Stats',\n",
       " 'https://fbref.com/en/squads/6a6967fc/Darmstadt-98-Stats']"
      ]
     },
     "execution_count": 17,
     "metadata": {},
     "output_type": "execute_result"
    }
   ],
   "source": [
    "# create full links to access\n",
    "team_urls = [f\"https://fbref.com{link}\" for link in links]\n",
    "team_urls"
   ]
  },
  {
   "cell_type": "markdown",
   "id": "7c47321a",
   "metadata": {},
   "source": [
    "# Extract match stats"
   ]
  },
  {
   "cell_type": "markdown",
   "id": "026832b8",
   "metadata": {},
   "source": [
    "In this section we work with an example, that is Bayer Leverkusen"
   ]
  },
  {
   "cell_type": "code",
   "execution_count": 18,
   "id": "03925085",
   "metadata": {},
   "outputs": [
    {
     "data": {
      "text/plain": [
       "'https://fbref.com/en/squads/c7a9f859/Bayer-Leverkusen-Stats'"
      ]
     },
     "execution_count": 18,
     "metadata": {},
     "output_type": "execute_result"
    }
   ],
   "source": [
    "# get Leverkusen's url\n",
    "Leverkusen_url = team_urls[0]\n",
    "Leverkusen_url"
   ]
  },
  {
   "cell_type": "code",
   "execution_count": 19,
   "id": "6dbb0d0e",
   "metadata": {},
   "outputs": [],
   "source": [
    "# get Leverkusen's html\n",
    "Leverkusen_html = requests.get(Leverkusen_url)\n",
    "time.sleep(1)"
   ]
  },
  {
   "cell_type": "code",
   "execution_count": 20,
   "id": "42d6973a",
   "metadata": {},
   "outputs": [
    {
     "data": {
      "text/html": [
       "<div>\n",
       "<style scoped>\n",
       "    .dataframe tbody tr th:only-of-type {\n",
       "        vertical-align: middle;\n",
       "    }\n",
       "\n",
       "    .dataframe tbody tr th {\n",
       "        vertical-align: top;\n",
       "    }\n",
       "\n",
       "    .dataframe thead th {\n",
       "        text-align: right;\n",
       "    }\n",
       "</style>\n",
       "<table border=\"1\" class=\"dataframe\">\n",
       "  <thead>\n",
       "    <tr style=\"text-align: right;\">\n",
       "      <th></th>\n",
       "      <th>Date</th>\n",
       "      <th>Time</th>\n",
       "      <th>Comp</th>\n",
       "      <th>Round</th>\n",
       "      <th>Day</th>\n",
       "      <th>Venue</th>\n",
       "      <th>Result</th>\n",
       "      <th>GF</th>\n",
       "      <th>GA</th>\n",
       "      <th>Opponent</th>\n",
       "      <th>xG</th>\n",
       "      <th>xGA</th>\n",
       "      <th>Poss</th>\n",
       "      <th>Attendance</th>\n",
       "      <th>Captain</th>\n",
       "      <th>Formation</th>\n",
       "      <th>Referee</th>\n",
       "      <th>Match Report</th>\n",
       "      <th>Notes</th>\n",
       "    </tr>\n",
       "  </thead>\n",
       "  <tbody>\n",
       "    <tr>\n",
       "      <th>0</th>\n",
       "      <td>2023-08-12</td>\n",
       "      <td>15:30</td>\n",
       "      <td>DFB-Pokal</td>\n",
       "      <td>Round of 64</td>\n",
       "      <td>Sat</td>\n",
       "      <td>Away</td>\n",
       "      <td>W</td>\n",
       "      <td>8.0</td>\n",
       "      <td>0.0</td>\n",
       "      <td>FC Teutonia Ottensen</td>\n",
       "      <td>NaN</td>\n",
       "      <td>NaN</td>\n",
       "      <td>66.0</td>\n",
       "      <td>11035.0</td>\n",
       "      <td>Lukáš Hrádecký</td>\n",
       "      <td>4-2-3-1</td>\n",
       "      <td>Tom Bauer</td>\n",
       "      <td>Match Report</td>\n",
       "      <td>NaN</td>\n",
       "    </tr>\n",
       "    <tr>\n",
       "      <th>1</th>\n",
       "      <td>2023-08-19</td>\n",
       "      <td>15:30</td>\n",
       "      <td>Bundesliga</td>\n",
       "      <td>Matchweek 1</td>\n",
       "      <td>Sat</td>\n",
       "      <td>Home</td>\n",
       "      <td>W</td>\n",
       "      <td>3.0</td>\n",
       "      <td>2.0</td>\n",
       "      <td>RB Leipzig</td>\n",
       "      <td>1.4</td>\n",
       "      <td>1.6</td>\n",
       "      <td>44.0</td>\n",
       "      <td>29464.0</td>\n",
       "      <td>Lukáš Hrádecký</td>\n",
       "      <td>3-4-3</td>\n",
       "      <td>Felix Brych</td>\n",
       "      <td>Match Report</td>\n",
       "      <td>NaN</td>\n",
       "    </tr>\n",
       "    <tr>\n",
       "      <th>2</th>\n",
       "      <td>2023-08-26</td>\n",
       "      <td>18:30</td>\n",
       "      <td>Bundesliga</td>\n",
       "      <td>Matchweek 2</td>\n",
       "      <td>Sat</td>\n",
       "      <td>Away</td>\n",
       "      <td>W</td>\n",
       "      <td>3.0</td>\n",
       "      <td>0.0</td>\n",
       "      <td>M'Gladbach</td>\n",
       "      <td>2.7</td>\n",
       "      <td>0.9</td>\n",
       "      <td>60.0</td>\n",
       "      <td>54042.0</td>\n",
       "      <td>Lukáš Hrádecký</td>\n",
       "      <td>3-4-3</td>\n",
       "      <td>Christian Dingert</td>\n",
       "      <td>Match Report</td>\n",
       "      <td>NaN</td>\n",
       "    </tr>\n",
       "    <tr>\n",
       "      <th>3</th>\n",
       "      <td>2023-09-02</td>\n",
       "      <td>15:30</td>\n",
       "      <td>Bundesliga</td>\n",
       "      <td>Matchweek 3</td>\n",
       "      <td>Sat</td>\n",
       "      <td>Home</td>\n",
       "      <td>W</td>\n",
       "      <td>5.0</td>\n",
       "      <td>1.0</td>\n",
       "      <td>Darmstadt 98</td>\n",
       "      <td>2.8</td>\n",
       "      <td>0.4</td>\n",
       "      <td>72.0</td>\n",
       "      <td>29653.0</td>\n",
       "      <td>Lukáš Hrádecký</td>\n",
       "      <td>3-4-3</td>\n",
       "      <td>Sven Jablonski</td>\n",
       "      <td>Match Report</td>\n",
       "      <td>NaN</td>\n",
       "    </tr>\n",
       "    <tr>\n",
       "      <th>4</th>\n",
       "      <td>2023-09-15</td>\n",
       "      <td>20:30</td>\n",
       "      <td>Bundesliga</td>\n",
       "      <td>Matchweek 4</td>\n",
       "      <td>Fri</td>\n",
       "      <td>Away</td>\n",
       "      <td>D</td>\n",
       "      <td>2.0</td>\n",
       "      <td>2.0</td>\n",
       "      <td>Bayern Munich</td>\n",
       "      <td>2.1</td>\n",
       "      <td>2.1</td>\n",
       "      <td>49.0</td>\n",
       "      <td>75000.0</td>\n",
       "      <td>Lukáš Hrádecký</td>\n",
       "      <td>3-4-3</td>\n",
       "      <td>Daniel Schlager</td>\n",
       "      <td>Match Report</td>\n",
       "      <td>NaN</td>\n",
       "    </tr>\n",
       "  </tbody>\n",
       "</table>\n",
       "</div>"
      ],
      "text/plain": [
       "         Date   Time        Comp        Round  Day Venue Result   GF   GA  \\\n",
       "0  2023-08-12  15:30   DFB-Pokal  Round of 64  Sat  Away      W  8.0  0.0   \n",
       "1  2023-08-19  15:30  Bundesliga  Matchweek 1  Sat  Home      W  3.0  2.0   \n",
       "2  2023-08-26  18:30  Bundesliga  Matchweek 2  Sat  Away      W  3.0  0.0   \n",
       "3  2023-09-02  15:30  Bundesliga  Matchweek 3  Sat  Home      W  5.0  1.0   \n",
       "4  2023-09-15  20:30  Bundesliga  Matchweek 4  Fri  Away      D  2.0  2.0   \n",
       "\n",
       "               Opponent   xG  xGA  Poss  Attendance         Captain Formation  \\\n",
       "0  FC Teutonia Ottensen  NaN  NaN  66.0     11035.0  Lukáš Hrádecký   4-2-3-1   \n",
       "1            RB Leipzig  1.4  1.6  44.0     29464.0  Lukáš Hrádecký     3-4-3   \n",
       "2            M'Gladbach  2.7  0.9  60.0     54042.0  Lukáš Hrádecký     3-4-3   \n",
       "3          Darmstadt 98  2.8  0.4  72.0     29653.0  Lukáš Hrádecký     3-4-3   \n",
       "4         Bayern Munich  2.1  2.1  49.0     75000.0  Lukáš Hrádecký     3-4-3   \n",
       "\n",
       "             Referee  Match Report  Notes  \n",
       "0          Tom Bauer  Match Report    NaN  \n",
       "1        Felix Brych  Match Report    NaN  \n",
       "2  Christian Dingert  Match Report    NaN  \n",
       "3     Sven Jablonski  Match Report    NaN  \n",
       "4    Daniel Schlager  Match Report    NaN  "
      ]
     },
     "execution_count": 20,
     "metadata": {},
     "output_type": "execute_result"
    }
   ],
   "source": [
    "# grab all matches of Leverkusen\n",
    "Leverkusen_matches_list = pd.read_html(Leverkusen_html.text, match=\"Scores & Fixtures\")\n",
    "# get all matches as a dataframe\n",
    "Leverkusen_matches = Leverkusen_matches_list[0]\n",
    "Leverkusen_matches.head()"
   ]
  },
  {
   "cell_type": "code",
   "execution_count": 21,
   "id": "46016015",
   "metadata": {},
   "outputs": [
    {
     "data": {
      "text/html": [
       "<div>\n",
       "<style scoped>\n",
       "    .dataframe tbody tr th:only-of-type {\n",
       "        vertical-align: middle;\n",
       "    }\n",
       "\n",
       "    .dataframe tbody tr th {\n",
       "        vertical-align: top;\n",
       "    }\n",
       "\n",
       "    .dataframe thead th {\n",
       "        text-align: right;\n",
       "    }\n",
       "</style>\n",
       "<table border=\"1\" class=\"dataframe\">\n",
       "  <thead>\n",
       "    <tr style=\"text-align: right;\">\n",
       "      <th></th>\n",
       "      <th>Date</th>\n",
       "      <th>Time</th>\n",
       "      <th>Comp</th>\n",
       "      <th>Round</th>\n",
       "      <th>Day</th>\n",
       "      <th>Venue</th>\n",
       "      <th>Result</th>\n",
       "      <th>GF</th>\n",
       "      <th>GA</th>\n",
       "      <th>Opponent</th>\n",
       "      <th>xG</th>\n",
       "      <th>xGA</th>\n",
       "      <th>Poss</th>\n",
       "    </tr>\n",
       "  </thead>\n",
       "  <tbody>\n",
       "    <tr>\n",
       "      <th>0</th>\n",
       "      <td>2023-08-12</td>\n",
       "      <td>15:30</td>\n",
       "      <td>DFB-Pokal</td>\n",
       "      <td>Round of 64</td>\n",
       "      <td>Sat</td>\n",
       "      <td>Away</td>\n",
       "      <td>W</td>\n",
       "      <td>8.0</td>\n",
       "      <td>0.0</td>\n",
       "      <td>FC Teutonia Ottensen</td>\n",
       "      <td>NaN</td>\n",
       "      <td>NaN</td>\n",
       "      <td>66.0</td>\n",
       "    </tr>\n",
       "    <tr>\n",
       "      <th>1</th>\n",
       "      <td>2023-08-19</td>\n",
       "      <td>15:30</td>\n",
       "      <td>Bundesliga</td>\n",
       "      <td>Matchweek 1</td>\n",
       "      <td>Sat</td>\n",
       "      <td>Home</td>\n",
       "      <td>W</td>\n",
       "      <td>3.0</td>\n",
       "      <td>2.0</td>\n",
       "      <td>RB Leipzig</td>\n",
       "      <td>1.4</td>\n",
       "      <td>1.6</td>\n",
       "      <td>44.0</td>\n",
       "    </tr>\n",
       "    <tr>\n",
       "      <th>2</th>\n",
       "      <td>2023-08-26</td>\n",
       "      <td>18:30</td>\n",
       "      <td>Bundesliga</td>\n",
       "      <td>Matchweek 2</td>\n",
       "      <td>Sat</td>\n",
       "      <td>Away</td>\n",
       "      <td>W</td>\n",
       "      <td>3.0</td>\n",
       "      <td>0.0</td>\n",
       "      <td>M'Gladbach</td>\n",
       "      <td>2.7</td>\n",
       "      <td>0.9</td>\n",
       "      <td>60.0</td>\n",
       "    </tr>\n",
       "    <tr>\n",
       "      <th>3</th>\n",
       "      <td>2023-09-02</td>\n",
       "      <td>15:30</td>\n",
       "      <td>Bundesliga</td>\n",
       "      <td>Matchweek 3</td>\n",
       "      <td>Sat</td>\n",
       "      <td>Home</td>\n",
       "      <td>W</td>\n",
       "      <td>5.0</td>\n",
       "      <td>1.0</td>\n",
       "      <td>Darmstadt 98</td>\n",
       "      <td>2.8</td>\n",
       "      <td>0.4</td>\n",
       "      <td>72.0</td>\n",
       "    </tr>\n",
       "    <tr>\n",
       "      <th>4</th>\n",
       "      <td>2023-09-15</td>\n",
       "      <td>20:30</td>\n",
       "      <td>Bundesliga</td>\n",
       "      <td>Matchweek 4</td>\n",
       "      <td>Fri</td>\n",
       "      <td>Away</td>\n",
       "      <td>D</td>\n",
       "      <td>2.0</td>\n",
       "      <td>2.0</td>\n",
       "      <td>Bayern Munich</td>\n",
       "      <td>2.1</td>\n",
       "      <td>2.1</td>\n",
       "      <td>49.0</td>\n",
       "    </tr>\n",
       "  </tbody>\n",
       "</table>\n",
       "</div>"
      ],
      "text/plain": [
       "         Date   Time        Comp        Round  Day Venue Result   GF   GA  \\\n",
       "0  2023-08-12  15:30   DFB-Pokal  Round of 64  Sat  Away      W  8.0  0.0   \n",
       "1  2023-08-19  15:30  Bundesliga  Matchweek 1  Sat  Home      W  3.0  2.0   \n",
       "2  2023-08-26  18:30  Bundesliga  Matchweek 2  Sat  Away      W  3.0  0.0   \n",
       "3  2023-09-02  15:30  Bundesliga  Matchweek 3  Sat  Home      W  5.0  1.0   \n",
       "4  2023-09-15  20:30  Bundesliga  Matchweek 4  Fri  Away      D  2.0  2.0   \n",
       "\n",
       "               Opponent   xG  xGA  Poss  \n",
       "0  FC Teutonia Ottensen  NaN  NaN  66.0  \n",
       "1            RB Leipzig  1.4  1.6  44.0  \n",
       "2            M'Gladbach  2.7  0.9  60.0  \n",
       "3          Darmstadt 98  2.8  0.4  72.0  \n",
       "4         Bayern Munich  2.1  2.1  49.0  "
      ]
     },
     "execution_count": 21,
     "metadata": {},
     "output_type": "execute_result"
    }
   ],
   "source": [
    "Leverkusen_matches = Leverkusen_matches.loc[:,['Date', 'Time', 'Comp', 'Round', 'Day', 'Venue', 'Result', 'GF', 'GA',\n",
    "       'Opponent', 'xG', 'xGA', 'Poss']]\n",
    "Leverkusen_matches.head()"
   ]
  },
  {
   "cell_type": "markdown",
   "id": "45f2db16",
   "metadata": {},
   "source": [
    "- GF = goals for\n",
    "- GA = goals against\n",
    "- xG = expected goals\n",
    "- xGA = expected goals allowed\n",
    "- Poss = possession, calculated as the percentage of passess attempted"
   ]
  },
  {
   "cell_type": "code",
   "execution_count": 22,
   "id": "c5f4a3b5",
   "metadata": {},
   "outputs": [
    {
     "data": {
      "text/plain": [
       "(45, 13)"
      ]
     },
     "execution_count": 22,
     "metadata": {},
     "output_type": "execute_result"
    }
   ],
   "source": [
    "Leverkusen_matches.shape"
   ]
  },
  {
   "cell_type": "markdown",
   "id": "d34a0ce6",
   "metadata": {},
   "source": [
    "# Get stats"
   ]
  },
  {
   "cell_type": "markdown",
   "id": "33818bc4",
   "metadata": {},
   "source": [
    "## Get shooting stats"
   ]
  },
  {
   "cell_type": "code",
   "execution_count": 23,
   "id": "9c015e44",
   "metadata": {},
   "outputs": [],
   "source": [
    "# initialize a soup\n",
    "Leverkusen_soup = BeautifulSoup(Leverkusen_html.text)"
   ]
  },
  {
   "cell_type": "code",
   "execution_count": 24,
   "id": "3f7105c7",
   "metadata": {},
   "outputs": [],
   "source": [
    "# find a-tags\n",
    "Leverkusen_a_tags = Leverkusen_soup.find_all('a')"
   ]
  },
  {
   "cell_type": "code",
   "execution_count": 25,
   "id": "3d8d5918",
   "metadata": {},
   "outputs": [],
   "source": [
    "# get links with 'href'\n",
    "Leverkusen_hrefs = [tag.get('href') for tag in Leverkusen_a_tags]"
   ]
  },
  {
   "cell_type": "code",
   "execution_count": 26,
   "id": "2abb0095",
   "metadata": {
    "scrolled": true
   },
   "outputs": [
    {
     "data": {
      "text/plain": [
       "['/en/squads/c7a9f859/2023-2024/matchlogs/all_comps/shooting/Bayer-Leverkusen-Match-Logs-All-Competitions',\n",
       " '/en/squads/c7a9f859/2023-2024/matchlogs/all_comps/shooting/Bayer-Leverkusen-Match-Logs-All-Competitions',\n",
       " '/en/squads/c7a9f859/2023-2024/matchlogs/all_comps/shooting/Bayer-Leverkusen-Match-Logs-All-Competitions',\n",
       " '/en/squads/c7a9f859/2023-2024/matchlogs/all_comps/shooting/Bayer-Leverkusen-Match-Logs-All-Competitions']"
      ]
     },
     "execution_count": 26,
     "metadata": {},
     "output_type": "execute_result"
    }
   ],
   "source": [
    "# filter with shooting\n",
    "Leverkusen_shooting_links = [href for href in Leverkusen_hrefs if href and 'all_comps/shooting/' in href]\n",
    "Leverkusen_shooting_links"
   ]
  },
  {
   "cell_type": "code",
   "execution_count": 27,
   "id": "3b261282",
   "metadata": {},
   "outputs": [],
   "source": [
    "# get shooting data\n",
    "Leverkusen_shooting_data = requests.get(f\"https://fbref.com{Leverkusen_shooting_links[0]}\")\n",
    "time.sleep(1)"
   ]
  },
  {
   "cell_type": "code",
   "execution_count": 28,
   "id": "f8303ebc",
   "metadata": {},
   "outputs": [
    {
     "data": {
      "text/html": [
       "<div>\n",
       "<style scoped>\n",
       "    .dataframe tbody tr th:only-of-type {\n",
       "        vertical-align: middle;\n",
       "    }\n",
       "\n",
       "    .dataframe tbody tr th {\n",
       "        vertical-align: top;\n",
       "    }\n",
       "\n",
       "    .dataframe thead th {\n",
       "        text-align: right;\n",
       "    }\n",
       "</style>\n",
       "<table border=\"1\" class=\"dataframe\">\n",
       "  <thead>\n",
       "    <tr style=\"text-align: right;\">\n",
       "      <th></th>\n",
       "      <th>Date</th>\n",
       "      <th>Sh</th>\n",
       "      <th>SoT</th>\n",
       "      <th>SoT%</th>\n",
       "    </tr>\n",
       "  </thead>\n",
       "  <tbody>\n",
       "    <tr>\n",
       "      <th>0</th>\n",
       "      <td>2023-08-12</td>\n",
       "      <td>22</td>\n",
       "      <td>11</td>\n",
       "      <td>50.0</td>\n",
       "    </tr>\n",
       "    <tr>\n",
       "      <th>1</th>\n",
       "      <td>2023-08-19</td>\n",
       "      <td>11</td>\n",
       "      <td>7</td>\n",
       "      <td>63.6</td>\n",
       "    </tr>\n",
       "    <tr>\n",
       "      <th>2</th>\n",
       "      <td>2023-08-26</td>\n",
       "      <td>24</td>\n",
       "      <td>11</td>\n",
       "      <td>45.8</td>\n",
       "    </tr>\n",
       "    <tr>\n",
       "      <th>3</th>\n",
       "      <td>2023-09-02</td>\n",
       "      <td>25</td>\n",
       "      <td>13</td>\n",
       "      <td>52.0</td>\n",
       "    </tr>\n",
       "    <tr>\n",
       "      <th>4</th>\n",
       "      <td>2023-09-15</td>\n",
       "      <td>12</td>\n",
       "      <td>4</td>\n",
       "      <td>33.3</td>\n",
       "    </tr>\n",
       "  </tbody>\n",
       "</table>\n",
       "</div>"
      ],
      "text/plain": [
       "         Date  Sh  SoT  SoT%\n",
       "0  2023-08-12  22   11  50.0\n",
       "1  2023-08-19  11    7  63.6\n",
       "2  2023-08-26  24   11  45.8\n",
       "3  2023-09-02  25   13  52.0\n",
       "4  2023-09-15  12    4  33.3"
      ]
     },
     "execution_count": 28,
     "metadata": {},
     "output_type": "execute_result"
    }
   ],
   "source": [
    "# get Leverkusen's shooting stats\n",
    "Leverkusen_shooting = pd.read_html(Leverkusen_shooting_data.text, match='Shooting')[0]\n",
    "# drop top level\n",
    "Leverkusen_shooting.columns = Leverkusen_shooting.columns.droplevel()\n",
    "Leverkusen_shooting = Leverkusen_shooting.loc[:,['Date', 'Sh', 'SoT', 'SoT%']]\n",
    "\n",
    "Leverkusen_shooting.head()"
   ]
  },
  {
   "cell_type": "markdown",
   "id": "6a1c82f6",
   "metadata": {},
   "source": [
    "- Sh = shots total\n",
    "- SoT = shots on target\n",
    "- SoT% = shots on target %"
   ]
  },
  {
   "cell_type": "markdown",
   "id": "4e2b669f",
   "metadata": {},
   "source": [
    "We write a function to scrape stats data for other stats"
   ]
  },
  {
   "cell_type": "code",
   "execution_count": 29,
   "id": "637fa56e",
   "metadata": {},
   "outputs": [],
   "source": [
    "def get_stats(team_hrefs, stat, match_string, indices_to_remove=None, selected_features=None):\n",
    "    \"\"\"\n",
    "    team_hrefs = list of all hrefs associated with a team\n",
    "    stat = a string, that is desired stat\n",
    "    match_string = a string, used to match    \n",
    "    indices_to_remove = a list of top level indices to remove. Some tables have multilevel index.\n",
    "    selected_features = a list of features to select after dropping top level index\n",
    "    \n",
    "    \"\"\"\n",
    "\n",
    "    # filter links with desired stat\n",
    "    links = [href for href in team_hrefs if href and \"all_comps/\" + stat +\"/\" in href]\n",
    "    # get stats data\n",
    "    stat_data = requests.get(f\"https://fbref.com{links[0]}\")    \n",
    "    # get stats table\n",
    "    stat_table = pd.read_html(stat_data.text, match=match_string)[0]    \n",
    "    # Handle case where indices_to_remove is None\n",
    "    if indices_to_remove is None:\n",
    "        indices_to_remove = []  # Set it to an empty list    \n",
    "    # top-level indices to remove\n",
    "    columns_to_drop = \\\n",
    "        stat_table.columns[stat_table.columns.get_level_values(0).isin(indices_to_remove)]\n",
    "    # remove some top-level indices\n",
    "    stat_table = stat_table.drop(columns=columns_to_drop)\n",
    "    # drop top-level index\n",
    "    stat_table.columns = stat_table.columns.droplevel()    \n",
    "    # Handle case where selected_features is None\n",
    "    if selected_features is not None:\n",
    "        # select features\n",
    "        stat_table = stat_table.loc[:,selected_features]    \n",
    "    \n",
    "    return stat_table"
   ]
  },
  {
   "cell_type": "markdown",
   "id": "64af0865",
   "metadata": {},
   "source": [
    "## Get Goalkeeping stats"
   ]
  },
  {
   "cell_type": "code",
   "execution_count": 30,
   "id": "d6bb0077",
   "metadata": {},
   "outputs": [
    {
     "data": {
      "text/html": [
       "<div>\n",
       "<style scoped>\n",
       "    .dataframe tbody tr th:only-of-type {\n",
       "        vertical-align: middle;\n",
       "    }\n",
       "\n",
       "    .dataframe tbody tr th {\n",
       "        vertical-align: top;\n",
       "    }\n",
       "\n",
       "    .dataframe thead th {\n",
       "        text-align: right;\n",
       "    }\n",
       "</style>\n",
       "<table border=\"1\" class=\"dataframe\">\n",
       "  <thead>\n",
       "    <tr style=\"text-align: right;\">\n",
       "      <th></th>\n",
       "      <th>Date</th>\n",
       "      <th>Saves</th>\n",
       "      <th>Save%</th>\n",
       "      <th>Stp</th>\n",
       "      <th>Stp%</th>\n",
       "      <th>#OPA</th>\n",
       "    </tr>\n",
       "  </thead>\n",
       "  <tbody>\n",
       "    <tr>\n",
       "      <th>0</th>\n",
       "      <td>2023-08-12</td>\n",
       "      <td>1</td>\n",
       "      <td>100.0</td>\n",
       "      <td>NaN</td>\n",
       "      <td>NaN</td>\n",
       "      <td>NaN</td>\n",
       "    </tr>\n",
       "    <tr>\n",
       "      <th>1</th>\n",
       "      <td>2023-08-19</td>\n",
       "      <td>4</td>\n",
       "      <td>66.7</td>\n",
       "      <td>2.0</td>\n",
       "      <td>18.2</td>\n",
       "      <td>1.0</td>\n",
       "    </tr>\n",
       "    <tr>\n",
       "      <th>2</th>\n",
       "      <td>2023-08-26</td>\n",
       "      <td>2</td>\n",
       "      <td>100.0</td>\n",
       "      <td>1.0</td>\n",
       "      <td>6.7</td>\n",
       "      <td>1.0</td>\n",
       "    </tr>\n",
       "    <tr>\n",
       "      <th>3</th>\n",
       "      <td>2023-09-02</td>\n",
       "      <td>0</td>\n",
       "      <td>0.0</td>\n",
       "      <td>0.0</td>\n",
       "      <td>0.0</td>\n",
       "      <td>3.0</td>\n",
       "    </tr>\n",
       "    <tr>\n",
       "      <th>4</th>\n",
       "      <td>2023-09-15</td>\n",
       "      <td>7</td>\n",
       "      <td>77.8</td>\n",
       "      <td>2.0</td>\n",
       "      <td>11.1</td>\n",
       "      <td>1.0</td>\n",
       "    </tr>\n",
       "  </tbody>\n",
       "</table>\n",
       "</div>"
      ],
      "text/plain": [
       "         Date  Saves  Save%  Stp  Stp%  #OPA\n",
       "0  2023-08-12      1  100.0  NaN   NaN   NaN\n",
       "1  2023-08-19      4   66.7  2.0  18.2   1.0\n",
       "2  2023-08-26      2  100.0  1.0   6.7   1.0\n",
       "3  2023-09-02      0    0.0  0.0   0.0   3.0\n",
       "4  2023-09-15      7   77.8  2.0  11.1   1.0"
      ]
     },
     "execution_count": 30,
     "metadata": {},
     "output_type": "execute_result"
    }
   ],
   "source": [
    "Leverkusen_goalkeeping =\\\n",
    "    get_stats(Leverkusen_hrefs, \"keeper\",'Goalkeeping', selected_features=['Date', 'Saves', 'Save%', 'Stp', 'Stp%', '#OPA'])\n",
    "time.sleep(1)\n",
    "Leverkusen_goalkeeping.head()"
   ]
  },
  {
   "cell_type": "markdown",
   "id": "12532d7e",
   "metadata": {},
   "source": [
    "- Saves = number of saves\n",
    "- Save% = save percentage\n",
    "- Stp = number of crosses into penalty area which was succesfully stopped by the goalkeeper\n",
    "- Stp% = crosses stopped %\n",
    "- #OPA = number of defensive action outside of penalty area"
   ]
  },
  {
   "cell_type": "markdown",
   "id": "974b1958",
   "metadata": {},
   "source": [
    "## Get passing stats"
   ]
  },
  {
   "cell_type": "code",
   "execution_count": 31,
   "id": "3d8295d4",
   "metadata": {},
   "outputs": [
    {
     "data": {
      "text/html": [
       "<div>\n",
       "<style scoped>\n",
       "    .dataframe tbody tr th:only-of-type {\n",
       "        vertical-align: middle;\n",
       "    }\n",
       "\n",
       "    .dataframe tbody tr th {\n",
       "        vertical-align: top;\n",
       "    }\n",
       "\n",
       "    .dataframe thead th {\n",
       "        text-align: right;\n",
       "    }\n",
       "</style>\n",
       "<table border=\"1\" class=\"dataframe\">\n",
       "  <thead>\n",
       "    <tr style=\"text-align: right;\">\n",
       "      <th></th>\n",
       "      <th>Date</th>\n",
       "      <th>Passes_Cmp</th>\n",
       "      <th>Passes_Att</th>\n",
       "      <th>Passes_Cmp%</th>\n",
       "      <th>TotDist</th>\n",
       "      <th>PrgDist</th>\n",
       "      <th>Ast</th>\n",
       "      <th>KP</th>\n",
       "      <th>PPA</th>\n",
       "      <th>CrsPA</th>\n",
       "    </tr>\n",
       "  </thead>\n",
       "  <tbody>\n",
       "    <tr>\n",
       "      <th>0</th>\n",
       "      <td>2023-08-12</td>\n",
       "      <td>NaN</td>\n",
       "      <td>NaN</td>\n",
       "      <td>NaN</td>\n",
       "      <td>NaN</td>\n",
       "      <td>NaN</td>\n",
       "      <td>5</td>\n",
       "      <td>NaN</td>\n",
       "      <td>NaN</td>\n",
       "      <td>NaN</td>\n",
       "    </tr>\n",
       "    <tr>\n",
       "      <th>1</th>\n",
       "      <td>2023-08-19</td>\n",
       "      <td>380.0</td>\n",
       "      <td>475.0</td>\n",
       "      <td>80.0</td>\n",
       "      <td>6130.0</td>\n",
       "      <td>2150.0</td>\n",
       "      <td>3</td>\n",
       "      <td>8.0</td>\n",
       "      <td>8.0</td>\n",
       "      <td>3.0</td>\n",
       "    </tr>\n",
       "    <tr>\n",
       "      <th>2</th>\n",
       "      <td>2023-08-26</td>\n",
       "      <td>649.0</td>\n",
       "      <td>740.0</td>\n",
       "      <td>87.7</td>\n",
       "      <td>9491.0</td>\n",
       "      <td>3417.0</td>\n",
       "      <td>3</td>\n",
       "      <td>22.0</td>\n",
       "      <td>21.0</td>\n",
       "      <td>0.0</td>\n",
       "    </tr>\n",
       "    <tr>\n",
       "      <th>3</th>\n",
       "      <td>2023-09-02</td>\n",
       "      <td>727.0</td>\n",
       "      <td>812.0</td>\n",
       "      <td>89.5</td>\n",
       "      <td>10511.0</td>\n",
       "      <td>3807.0</td>\n",
       "      <td>5</td>\n",
       "      <td>20.0</td>\n",
       "      <td>17.0</td>\n",
       "      <td>2.0</td>\n",
       "    </tr>\n",
       "    <tr>\n",
       "      <th>4</th>\n",
       "      <td>2023-09-15</td>\n",
       "      <td>512.0</td>\n",
       "      <td>601.0</td>\n",
       "      <td>85.2</td>\n",
       "      <td>8322.0</td>\n",
       "      <td>3157.0</td>\n",
       "      <td>0</td>\n",
       "      <td>10.0</td>\n",
       "      <td>12.0</td>\n",
       "      <td>0.0</td>\n",
       "    </tr>\n",
       "  </tbody>\n",
       "</table>\n",
       "</div>"
      ],
      "text/plain": [
       "         Date  Passes_Cmp  Passes_Att  Passes_Cmp%  TotDist  PrgDist  Ast  \\\n",
       "0  2023-08-12         NaN         NaN          NaN      NaN      NaN    5   \n",
       "1  2023-08-19       380.0       475.0         80.0   6130.0   2150.0    3   \n",
       "2  2023-08-26       649.0       740.0         87.7   9491.0   3417.0    3   \n",
       "3  2023-09-02       727.0       812.0         89.5  10511.0   3807.0    5   \n",
       "4  2023-09-15       512.0       601.0         85.2   8322.0   3157.0    0   \n",
       "\n",
       "     KP   PPA  CrsPA  \n",
       "0   NaN   NaN    NaN  \n",
       "1   8.0   8.0    3.0  \n",
       "2  22.0  21.0    0.0  \n",
       "3  20.0  17.0    2.0  \n",
       "4  10.0  12.0    0.0  "
      ]
     },
     "execution_count": 31,
     "metadata": {},
     "output_type": "execute_result"
    }
   ],
   "source": [
    "# get passing stats\n",
    "Leverkusen_passing = get_stats(Leverkusen_hrefs, \"passing\", \"Passing\", indices_to_remove=['Short', 'Medium', 'Long'], \n",
    "          selected_features=['Date', 'Cmp', 'Att', 'Cmp%', 'TotDist', 'PrgDist', 'Ast', 'KP', 'PPA', 'CrsPA'])\n",
    "# rename features\n",
    "Leverkusen_passing.columns = \\\n",
    "        ['Date', 'Passes_Cmp', 'Passes_Att', 'Passes_Cmp%', 'TotDist', 'PrgDist', 'Ast', 'KP', 'PPA', 'CrsPA']\n",
    "time.sleep(1)\n",
    "Leverkusen_passing.head()"
   ]
  },
  {
   "cell_type": "markdown",
   "id": "4286af95",
   "metadata": {},
   "source": [
    "- Passes_Cmp = passes completed\n",
    "- Passes_Att = passes attempted\n",
    "- Passes_Cmp% = pass completion %\n",
    "- TotDist = total distance in yards, that completed passes have traveled in any direction\n",
    "- PrgDist = total distance in yards, that completed passes have traveled towards opponents's goal\n",
    "- Ast = assists\n",
    "- KP = key passes, directly lead to a shot\n",
    "- PPA = passes into penalty area\n",
    "- CrsPA = crosses into penalty area"
   ]
  },
  {
   "cell_type": "markdown",
   "id": "13ea3786",
   "metadata": {},
   "source": [
    "## Get defensive actions stats"
   ]
  },
  {
   "cell_type": "code",
   "execution_count": 32,
   "id": "785744bd",
   "metadata": {},
   "outputs": [
    {
     "data": {
      "text/html": [
       "<div>\n",
       "<style scoped>\n",
       "    .dataframe tbody tr th:only-of-type {\n",
       "        vertical-align: middle;\n",
       "    }\n",
       "\n",
       "    .dataframe tbody tr th {\n",
       "        vertical-align: top;\n",
       "    }\n",
       "\n",
       "    .dataframe thead th {\n",
       "        text-align: right;\n",
       "    }\n",
       "</style>\n",
       "<table border=\"1\" class=\"dataframe\">\n",
       "  <thead>\n",
       "    <tr style=\"text-align: right;\">\n",
       "      <th></th>\n",
       "      <th>Date</th>\n",
       "      <th>Tkl</th>\n",
       "      <th>TklW</th>\n",
       "      <th>Blocks</th>\n",
       "      <th>Int</th>\n",
       "      <th>Clr</th>\n",
       "    </tr>\n",
       "  </thead>\n",
       "  <tbody>\n",
       "    <tr>\n",
       "      <th>0</th>\n",
       "      <td>2023-08-12</td>\n",
       "      <td>NaN</td>\n",
       "      <td>10</td>\n",
       "      <td>NaN</td>\n",
       "      <td>6</td>\n",
       "      <td>NaN</td>\n",
       "    </tr>\n",
       "    <tr>\n",
       "      <th>1</th>\n",
       "      <td>2023-08-19</td>\n",
       "      <td>15.0</td>\n",
       "      <td>11</td>\n",
       "      <td>14.0</td>\n",
       "      <td>8</td>\n",
       "      <td>15.0</td>\n",
       "    </tr>\n",
       "    <tr>\n",
       "      <th>2</th>\n",
       "      <td>2023-08-26</td>\n",
       "      <td>16.0</td>\n",
       "      <td>11</td>\n",
       "      <td>9.0</td>\n",
       "      <td>9</td>\n",
       "      <td>11.0</td>\n",
       "    </tr>\n",
       "    <tr>\n",
       "      <th>3</th>\n",
       "      <td>2023-09-02</td>\n",
       "      <td>7.0</td>\n",
       "      <td>4</td>\n",
       "      <td>10.0</td>\n",
       "      <td>4</td>\n",
       "      <td>3.0</td>\n",
       "    </tr>\n",
       "    <tr>\n",
       "      <th>4</th>\n",
       "      <td>2023-09-15</td>\n",
       "      <td>23.0</td>\n",
       "      <td>12</td>\n",
       "      <td>9.0</td>\n",
       "      <td>21</td>\n",
       "      <td>19.0</td>\n",
       "    </tr>\n",
       "  </tbody>\n",
       "</table>\n",
       "</div>"
      ],
      "text/plain": [
       "         Date   Tkl  TklW  Blocks  Int   Clr\n",
       "0  2023-08-12   NaN    10     NaN    6   NaN\n",
       "1  2023-08-19  15.0    11    14.0    8  15.0\n",
       "2  2023-08-26  16.0    11     9.0    9  11.0\n",
       "3  2023-09-02   7.0     4    10.0    4   3.0\n",
       "4  2023-09-15  23.0    12     9.0   21  19.0"
      ]
     },
     "execution_count": 32,
     "metadata": {},
     "output_type": "execute_result"
    }
   ],
   "source": [
    "Leverkusen_defense = get_stats(Leverkusen_hrefs, \"defense\", \"Defensive Actions\", indices_to_remove=['Challenges'],\n",
    "                               selected_features=['Date', 'Tkl', 'TklW', 'Blocks', 'Int', 'Clr'])\n",
    "time.sleep(1)\n",
    "Leverkusen_defense.head()"
   ]
  },
  {
   "cell_type": "markdown",
   "id": "78c91a3e",
   "metadata": {},
   "source": [
    "- Tkl = tackles\n",
    "- TklW = tackles won\n",
    "- Blocks = number of times blocking the ball by standing in its path\n",
    "- Int = interceptions\n",
    "- Clr = clearances"
   ]
  },
  {
   "cell_type": "markdown",
   "id": "30128953",
   "metadata": {},
   "source": [
    "## Get possession stats"
   ]
  },
  {
   "cell_type": "code",
   "execution_count": 33,
   "id": "69133a98",
   "metadata": {},
   "outputs": [
    {
     "data": {
      "text/html": [
       "<div>\n",
       "<style scoped>\n",
       "    .dataframe tbody tr th:only-of-type {\n",
       "        vertical-align: middle;\n",
       "    }\n",
       "\n",
       "    .dataframe tbody tr th {\n",
       "        vertical-align: top;\n",
       "    }\n",
       "\n",
       "    .dataframe thead th {\n",
       "        text-align: right;\n",
       "    }\n",
       "</style>\n",
       "<table border=\"1\" class=\"dataframe\">\n",
       "  <thead>\n",
       "    <tr style=\"text-align: right;\">\n",
       "      <th></th>\n",
       "      <th>Date</th>\n",
       "      <th>Touches</th>\n",
       "      <th>Take_ons_Att</th>\n",
       "      <th>Succ</th>\n",
       "      <th>Succ%</th>\n",
       "    </tr>\n",
       "  </thead>\n",
       "  <tbody>\n",
       "    <tr>\n",
       "      <th>0</th>\n",
       "      <td>2023-08-12</td>\n",
       "      <td>NaN</td>\n",
       "      <td>NaN</td>\n",
       "      <td>NaN</td>\n",
       "      <td>NaN</td>\n",
       "    </tr>\n",
       "    <tr>\n",
       "      <th>1</th>\n",
       "      <td>2023-08-19</td>\n",
       "      <td>574.0</td>\n",
       "      <td>22.0</td>\n",
       "      <td>11.0</td>\n",
       "      <td>50.0</td>\n",
       "    </tr>\n",
       "    <tr>\n",
       "      <th>2</th>\n",
       "      <td>2023-08-26</td>\n",
       "      <td>854.0</td>\n",
       "      <td>16.0</td>\n",
       "      <td>7.0</td>\n",
       "      <td>43.8</td>\n",
       "    </tr>\n",
       "    <tr>\n",
       "      <th>3</th>\n",
       "      <td>2023-09-02</td>\n",
       "      <td>913.0</td>\n",
       "      <td>26.0</td>\n",
       "      <td>15.0</td>\n",
       "      <td>57.7</td>\n",
       "    </tr>\n",
       "    <tr>\n",
       "      <th>4</th>\n",
       "      <td>2023-09-15</td>\n",
       "      <td>744.0</td>\n",
       "      <td>33.0</td>\n",
       "      <td>16.0</td>\n",
       "      <td>48.5</td>\n",
       "    </tr>\n",
       "  </tbody>\n",
       "</table>\n",
       "</div>"
      ],
      "text/plain": [
       "         Date  Touches  Take_ons_Att  Succ  Succ%\n",
       "0  2023-08-12      NaN           NaN   NaN    NaN\n",
       "1  2023-08-19    574.0          22.0  11.0   50.0\n",
       "2  2023-08-26    854.0          16.0   7.0   43.8\n",
       "3  2023-09-02    913.0          26.0  15.0   57.7\n",
       "4  2023-09-15    744.0          33.0  16.0   48.5"
      ]
     },
     "execution_count": 33,
     "metadata": {},
     "output_type": "execute_result"
    }
   ],
   "source": [
    "Leverkusen_possession = get_stats(Leverkusen_hrefs, \"possession\", \"Possession\", indices_to_remove=['Carries', 'Receiving'],\n",
    "                                 selected_features=['Date', 'Touches', 'Att', 'Succ', 'Succ%'])\n",
    "# rename features\n",
    "Leverkusen_possession.columns = ['Date', 'Touches', 'Take_ons_Att', 'Succ', 'Succ%']\n",
    "time.sleep(1)\n",
    "# first 5 rows\n",
    "Leverkusen_possession.head()"
   ]
  },
  {
   "cell_type": "markdown",
   "id": "1e964b25",
   "metadata": {},
   "source": [
    "- Touches = number of times a player touches the ball\n",
    "- Att = take-ons attempted\n",
    "- Succ = succesful take-ons\n",
    "- Succ% = succesful take-ons %"
   ]
  },
  {
   "cell_type": "markdown",
   "id": "7640d9e1",
   "metadata": {},
   "source": [
    "# Cleaning and Merge"
   ]
  },
  {
   "cell_type": "code",
   "execution_count": 34,
   "id": "90fd0576",
   "metadata": {},
   "outputs": [
    {
     "data": {
      "text/html": [
       "<div>\n",
       "<style scoped>\n",
       "    .dataframe tbody tr th:only-of-type {\n",
       "        vertical-align: middle;\n",
       "    }\n",
       "\n",
       "    .dataframe tbody tr th {\n",
       "        vertical-align: top;\n",
       "    }\n",
       "\n",
       "    .dataframe thead th {\n",
       "        text-align: right;\n",
       "    }\n",
       "</style>\n",
       "<table border=\"1\" class=\"dataframe\">\n",
       "  <thead>\n",
       "    <tr style=\"text-align: right;\">\n",
       "      <th></th>\n",
       "      <th>Date</th>\n",
       "      <th>Time</th>\n",
       "      <th>Comp</th>\n",
       "      <th>Round</th>\n",
       "      <th>Day</th>\n",
       "      <th>Venue</th>\n",
       "      <th>Result</th>\n",
       "      <th>GF</th>\n",
       "      <th>GA</th>\n",
       "      <th>Opponent</th>\n",
       "      <th>...</th>\n",
       "      <th>CrsPA</th>\n",
       "      <th>Tkl</th>\n",
       "      <th>TklW</th>\n",
       "      <th>Blocks</th>\n",
       "      <th>Int</th>\n",
       "      <th>Clr</th>\n",
       "      <th>Touches</th>\n",
       "      <th>Take_ons_Att</th>\n",
       "      <th>Succ</th>\n",
       "      <th>Succ%</th>\n",
       "    </tr>\n",
       "  </thead>\n",
       "  <tbody>\n",
       "    <tr>\n",
       "      <th>0</th>\n",
       "      <td>2023-08-12</td>\n",
       "      <td>15:30</td>\n",
       "      <td>DFB-Pokal</td>\n",
       "      <td>Round of 64</td>\n",
       "      <td>Sat</td>\n",
       "      <td>Away</td>\n",
       "      <td>W</td>\n",
       "      <td>8.0</td>\n",
       "      <td>0.0</td>\n",
       "      <td>FC Teutonia Ottensen</td>\n",
       "      <td>...</td>\n",
       "      <td>NaN</td>\n",
       "      <td>NaN</td>\n",
       "      <td>10</td>\n",
       "      <td>NaN</td>\n",
       "      <td>6</td>\n",
       "      <td>NaN</td>\n",
       "      <td>NaN</td>\n",
       "      <td>NaN</td>\n",
       "      <td>NaN</td>\n",
       "      <td>NaN</td>\n",
       "    </tr>\n",
       "    <tr>\n",
       "      <th>1</th>\n",
       "      <td>2023-08-19</td>\n",
       "      <td>15:30</td>\n",
       "      <td>Bundesliga</td>\n",
       "      <td>Matchweek 1</td>\n",
       "      <td>Sat</td>\n",
       "      <td>Home</td>\n",
       "      <td>W</td>\n",
       "      <td>3.0</td>\n",
       "      <td>2.0</td>\n",
       "      <td>RB Leipzig</td>\n",
       "      <td>...</td>\n",
       "      <td>3.0</td>\n",
       "      <td>15.0</td>\n",
       "      <td>11</td>\n",
       "      <td>14.0</td>\n",
       "      <td>8</td>\n",
       "      <td>15.0</td>\n",
       "      <td>574.0</td>\n",
       "      <td>22.0</td>\n",
       "      <td>11.0</td>\n",
       "      <td>50.0</td>\n",
       "    </tr>\n",
       "    <tr>\n",
       "      <th>2</th>\n",
       "      <td>2023-08-26</td>\n",
       "      <td>18:30</td>\n",
       "      <td>Bundesliga</td>\n",
       "      <td>Matchweek 2</td>\n",
       "      <td>Sat</td>\n",
       "      <td>Away</td>\n",
       "      <td>W</td>\n",
       "      <td>3.0</td>\n",
       "      <td>0.0</td>\n",
       "      <td>M'Gladbach</td>\n",
       "      <td>...</td>\n",
       "      <td>0.0</td>\n",
       "      <td>16.0</td>\n",
       "      <td>11</td>\n",
       "      <td>9.0</td>\n",
       "      <td>9</td>\n",
       "      <td>11.0</td>\n",
       "      <td>854.0</td>\n",
       "      <td>16.0</td>\n",
       "      <td>7.0</td>\n",
       "      <td>43.8</td>\n",
       "    </tr>\n",
       "    <tr>\n",
       "      <th>3</th>\n",
       "      <td>2023-09-02</td>\n",
       "      <td>15:30</td>\n",
       "      <td>Bundesliga</td>\n",
       "      <td>Matchweek 3</td>\n",
       "      <td>Sat</td>\n",
       "      <td>Home</td>\n",
       "      <td>W</td>\n",
       "      <td>5.0</td>\n",
       "      <td>1.0</td>\n",
       "      <td>Darmstadt 98</td>\n",
       "      <td>...</td>\n",
       "      <td>2.0</td>\n",
       "      <td>7.0</td>\n",
       "      <td>4</td>\n",
       "      <td>10.0</td>\n",
       "      <td>4</td>\n",
       "      <td>3.0</td>\n",
       "      <td>913.0</td>\n",
       "      <td>26.0</td>\n",
       "      <td>15.0</td>\n",
       "      <td>57.7</td>\n",
       "    </tr>\n",
       "    <tr>\n",
       "      <th>4</th>\n",
       "      <td>2023-09-15</td>\n",
       "      <td>20:30</td>\n",
       "      <td>Bundesliga</td>\n",
       "      <td>Matchweek 4</td>\n",
       "      <td>Fri</td>\n",
       "      <td>Away</td>\n",
       "      <td>D</td>\n",
       "      <td>2.0</td>\n",
       "      <td>2.0</td>\n",
       "      <td>Bayern Munich</td>\n",
       "      <td>...</td>\n",
       "      <td>0.0</td>\n",
       "      <td>23.0</td>\n",
       "      <td>12</td>\n",
       "      <td>9.0</td>\n",
       "      <td>21</td>\n",
       "      <td>19.0</td>\n",
       "      <td>744.0</td>\n",
       "      <td>33.0</td>\n",
       "      <td>16.0</td>\n",
       "      <td>48.5</td>\n",
       "    </tr>\n",
       "  </tbody>\n",
       "</table>\n",
       "<p>5 rows × 39 columns</p>\n",
       "</div>"
      ],
      "text/plain": [
       "         Date   Time        Comp        Round  Day Venue Result   GF   GA  \\\n",
       "0  2023-08-12  15:30   DFB-Pokal  Round of 64  Sat  Away      W  8.0  0.0   \n",
       "1  2023-08-19  15:30  Bundesliga  Matchweek 1  Sat  Home      W  3.0  2.0   \n",
       "2  2023-08-26  18:30  Bundesliga  Matchweek 2  Sat  Away      W  3.0  0.0   \n",
       "3  2023-09-02  15:30  Bundesliga  Matchweek 3  Sat  Home      W  5.0  1.0   \n",
       "4  2023-09-15  20:30  Bundesliga  Matchweek 4  Fri  Away      D  2.0  2.0   \n",
       "\n",
       "               Opponent  ...  CrsPA   Tkl  TklW  Blocks  Int   Clr  Touches  \\\n",
       "0  FC Teutonia Ottensen  ...    NaN   NaN    10     NaN    6   NaN      NaN   \n",
       "1            RB Leipzig  ...    3.0  15.0    11    14.0    8  15.0    574.0   \n",
       "2            M'Gladbach  ...    0.0  16.0    11     9.0    9  11.0    854.0   \n",
       "3          Darmstadt 98  ...    2.0   7.0     4    10.0    4   3.0    913.0   \n",
       "4         Bayern Munich  ...    0.0  23.0    12     9.0   21  19.0    744.0   \n",
       "\n",
       "   Take_ons_Att  Succ  Succ%  \n",
       "0           NaN   NaN    NaN  \n",
       "1          22.0  11.0   50.0  \n",
       "2          16.0   7.0   43.8  \n",
       "3          26.0  15.0   57.7  \n",
       "4          33.0  16.0   48.5  \n",
       "\n",
       "[5 rows x 39 columns]"
      ]
     },
     "execution_count": 34,
     "metadata": {},
     "output_type": "execute_result"
    }
   ],
   "source": [
    "# list of dataframes\n",
    "dfs = [Leverkusen_matches, Leverkusen_shooting, \n",
    "       Leverkusen_goalkeeping, Leverkusen_passing, Leverkusen_defense, Leverkusen_possession]\n",
    "# merge dfs\n",
    "Leverkusen_data = reduce(lambda  left,right: pd.merge(left,right,on=['Date']), dfs)\n",
    "Leverkusen_data.head()"
   ]
  },
  {
   "cell_type": "code",
   "execution_count": 35,
   "id": "4d41718b",
   "metadata": {},
   "outputs": [
    {
     "data": {
      "text/plain": [
       "Index(['Date', 'Time', 'Comp', 'Round', 'Day', 'Venue', 'Result', 'GF', 'GA',\n",
       "       'Opponent', 'xG', 'xGA', 'Poss', 'Sh', 'SoT', 'SoT%', 'Saves', 'Save%',\n",
       "       'Stp', 'Stp%', '#OPA', 'Passes_Cmp', 'Passes_Att', 'Passes_Cmp%',\n",
       "       'TotDist', 'PrgDist', 'Ast', 'KP', 'PPA', 'CrsPA', 'Tkl', 'TklW',\n",
       "       'Blocks', 'Int', 'Clr', 'Touches', 'Take_ons_Att', 'Succ', 'Succ%'],\n",
       "      dtype='object')"
      ]
     },
     "execution_count": 35,
     "metadata": {},
     "output_type": "execute_result"
    }
   ],
   "source": [
    "Leverkusen_data.columns"
   ]
  },
  {
   "cell_type": "code",
   "execution_count": 36,
   "id": "82c31d0b",
   "metadata": {
    "scrolled": false
   },
   "outputs": [
    {
     "data": {
      "text/plain": [
       "array([False, False, False, False, False, False, False, False, False,\n",
       "       False, False, False, False, False, False, False, False, False,\n",
       "       False, False, False, False, False, False, False, False, False,\n",
       "       False, False, False, False, False, False, False, False, False,\n",
       "       False, False, False])"
      ]
     },
     "execution_count": 36,
     "metadata": {},
     "output_type": "execute_result"
    }
   ],
   "source": [
    "Leverkusen_data.columns.duplicated(keep=False)"
   ]
  },
  {
   "cell_type": "markdown",
   "id": "d3633f8a",
   "metadata": {},
   "source": [
    "# Scraping through seasons and teams"
   ]
  },
  {
   "cell_type": "code",
   "execution_count": 37,
   "id": "c568eef3",
   "metadata": {},
   "outputs": [],
   "source": [
    "# a list of years to scrape\n",
    "years = list(range(2023, 2018, -1))"
   ]
  },
  {
   "cell_type": "code",
   "execution_count": 38,
   "id": "a6375f7f",
   "metadata": {},
   "outputs": [
    {
     "data": {
      "text/plain": [
       "[2023, 2022, 2021, 2020, 2019]"
      ]
     },
     "execution_count": 38,
     "metadata": {},
     "output_type": "execute_result"
    }
   ],
   "source": [
    "years"
   ]
  },
  {
   "cell_type": "code",
   "execution_count": 39,
   "id": "5ba7cc8b",
   "metadata": {},
   "outputs": [],
   "source": [
    "all_matches = []"
   ]
  },
  {
   "cell_type": "code",
   "execution_count": 40,
   "id": "50df5b13",
   "metadata": {},
   "outputs": [
    {
     "data": {
      "text/plain": [
       "'https://fbref.com/en/comps/20/Bundesliga-Stats'"
      ]
     },
     "execution_count": 40,
     "metadata": {},
     "output_type": "execute_result"
    }
   ],
   "source": [
    "table"
   ]
  },
  {
   "cell_type": "code",
   "execution_count": 42,
   "id": "63ab2822",
   "metadata": {},
   "outputs": [
    {
     "name": "stderr",
     "output_type": "stream",
     "text": [
      "Scraping Progress. Please be patient!: 100%|████████████████████████████████████████████| 5/5 [30:36<00:00, 367.27s/it]\n"
     ]
    }
   ],
   "source": [
    "# let's scrape!\n",
    "for year in tqdm(years, desc=\"Scraping Progress. Please be patient!\"):\n",
    "    table_data = requests.get(table)\n",
    "    time.sleep(1)\n",
    "    table_soup = BeautifulSoup(table_data.text)\n",
    "    standings_table = table_soup.select('table.stats_table')[0]\n",
    "    \n",
    "    hrefs = [tag.get('href') for tag in standings_table.find_all('a')]\n",
    "    links = [link for link in hrefs if '/squads/' in link]\n",
    "    team_urls = [f\"https://fbref.com{link}\" for link in links]\n",
    "    \n",
    "    previous_season = table_soup.select(\"a.prev\")[0].get(\"href\")\n",
    "    table = f\"https://fbref.com/{previous_season}\"\n",
    "    \n",
    "    for team_url in team_urls:\n",
    "        team_name = team_url.split(\"/\")[-1].replace(\"-Stats\", \"\").replace(\"-\", \" \")\n",
    "        \n",
    "        # get all matches\n",
    "        team_html = requests.get(team_url)\n",
    "        time.sleep(1)\n",
    "        team_matches = pd.read_html(team_html.text, match=\"Scores & Fixtures\")[0]\n",
    "        \n",
    "        # get stats\n",
    "        team_soup = BeautifulSoup(team_html.text)\n",
    "        team_hrefs = [tag.get(\"href\") for tag in team_soup.find_all('a')]\n",
    "        \n",
    "        # get shooting stats\n",
    "        team_shooting = get_stats(team_hrefs, \"shooting\", \"Shooting\", selected_features=['Date', 'Sh', 'SoT', 'SoT%'])\n",
    "        time.sleep(1)\n",
    "        \n",
    "        # get goalkeeping stats\n",
    "        team_goalkeeping = get_stats(team_hrefs, \"keeper\",'Goalkeeping', \n",
    "                                     selected_features=['Date', 'Saves', 'Save%', 'Stp', 'Stp%', '#OPA'])\n",
    "        time.sleep(1)\n",
    "        # get passing stats\n",
    "        team_passing = get_stats(team_hrefs, \"passing\", \"Passing\", indices_to_remove=['Short', 'Medium', 'Long'], \n",
    "          selected_features=['Date', 'Cmp', 'Att', 'Cmp%', 'TotDist', 'PrgDist', 'Ast', 'KP', 'PPA', 'CrsPA'])\n",
    "        time.sleep(1)\n",
    "        \n",
    "        # get defense stats\n",
    "        team_defense = get_stats(team_hrefs, \"defense\", \"Defensive Actions\", indices_to_remove=['Challenges'],\n",
    "                               selected_features=['Date', 'Tkl', 'TklW', 'Blocks', 'Int', 'Clr'])\n",
    "        time.sleep(1)\n",
    "        \n",
    "        # get possession stats\n",
    "        team_possession = get_stats(team_hrefs, \"possession\", \"Possession\", indices_to_remove=['Carries', 'Receiving'],\n",
    "                                 selected_features=['Date', 'Touches', 'Att', 'Succ', 'Succ%'])\n",
    "        time.sleep(1)\n",
    "        \n",
    "        # list of dataframes\n",
    "        dfs = [team_matches, team_shooting, \n",
    "               team_goalkeeping, team_passing, team_defense, team_possession]\n",
    "               \n",
    "\n",
    "        try:\n",
    "            team_data = reduce(lambda  left,right: pd.merge(left,right,on=['Date']), dfs)\n",
    "        except ValueError:\n",
    "            continue\n",
    "            \n",
    "        team_data = team_data[team_data['Comp']==\"Bundesliga\"]\n",
    "        team_data[\"Season\"] = str(year)+\"-\"+ str(year+1)\n",
    "        team_data[\"Team\"] = team_name\n",
    "        all_matches.append(team_data)\n",
    "        time.sleep(1)        "
   ]
  },
  {
   "cell_type": "code",
   "execution_count": 43,
   "id": "e0fac5be",
   "metadata": {},
   "outputs": [
    {
     "data": {
      "text/plain": [
       "90"
      ]
     },
     "execution_count": 43,
     "metadata": {},
     "output_type": "execute_result"
    }
   ],
   "source": [
    "len(all_matches)"
   ]
  },
  {
   "cell_type": "code",
   "execution_count": 50,
   "id": "fdf7558e",
   "metadata": {},
   "outputs": [],
   "source": [
    "# concatenate all dataframes\n",
    "match_df = pd.concat(all_matches)"
   ]
  },
  {
   "cell_type": "code",
   "execution_count": 54,
   "id": "d8ab9209",
   "metadata": {},
   "outputs": [],
   "source": [
    "# turn column names in lower case\n",
    "match_df.columns = [column.lower() for column in match_df.columns]"
   ]
  },
  {
   "cell_type": "code",
   "execution_count": 55,
   "id": "d34780e4",
   "metadata": {},
   "outputs": [
    {
     "data": {
      "text/plain": [
       "Index(['date', 'time', 'comp', 'round', 'day', 'venue', 'result', 'gf', 'ga',\n",
       "       'opponent', 'xg', 'xga', 'poss', 'attendance', 'captain', 'formation',\n",
       "       'referee', 'match report', 'notes', 'sh', 'sot', 'sot%', 'saves',\n",
       "       'save%', 'stp', 'stp%', '#opa', 'cmp', 'att_x', 'cmp%', 'totdist',\n",
       "       'prgdist', 'ast', 'kp', 'ppa', 'crspa', 'tkl', 'tklw', 'blocks', 'int',\n",
       "       'clr', 'touches', 'att_y', 'succ', 'succ%', 'season', 'team'],\n",
       "      dtype='object')"
      ]
     },
     "execution_count": 55,
     "metadata": {},
     "output_type": "execute_result"
    }
   ],
   "source": [
    "match_df.columns"
   ]
  },
  {
   "cell_type": "code",
   "execution_count": 57,
   "id": "8734fe5f",
   "metadata": {},
   "outputs": [],
   "source": [
    "# save datasets to csv file\n",
    "match_df.to_csv(\"matches.csv\")"
   ]
  },
  {
   "cell_type": "code",
   "execution_count": 58,
   "id": "cad0b7ac",
   "metadata": {
    "scrolled": true
   },
   "outputs": [
    {
     "data": {
      "text/html": [
       "<div>\n",
       "<style scoped>\n",
       "    .dataframe tbody tr th:only-of-type {\n",
       "        vertical-align: middle;\n",
       "    }\n",
       "\n",
       "    .dataframe tbody tr th {\n",
       "        vertical-align: top;\n",
       "    }\n",
       "\n",
       "    .dataframe thead th {\n",
       "        text-align: right;\n",
       "    }\n",
       "</style>\n",
       "<table border=\"1\" class=\"dataframe\">\n",
       "  <thead>\n",
       "    <tr style=\"text-align: right;\">\n",
       "      <th></th>\n",
       "      <th>date</th>\n",
       "      <th>time</th>\n",
       "      <th>comp</th>\n",
       "      <th>round</th>\n",
       "      <th>day</th>\n",
       "      <th>venue</th>\n",
       "      <th>result</th>\n",
       "      <th>gf</th>\n",
       "      <th>ga</th>\n",
       "      <th>opponent</th>\n",
       "      <th>...</th>\n",
       "      <th>tklw</th>\n",
       "      <th>blocks</th>\n",
       "      <th>int</th>\n",
       "      <th>clr</th>\n",
       "      <th>touches</th>\n",
       "      <th>att_y</th>\n",
       "      <th>succ</th>\n",
       "      <th>succ%</th>\n",
       "      <th>season</th>\n",
       "      <th>team</th>\n",
       "    </tr>\n",
       "  </thead>\n",
       "  <tbody>\n",
       "    <tr>\n",
       "      <th>1</th>\n",
       "      <td>2023-08-19</td>\n",
       "      <td>15:30</td>\n",
       "      <td>Bundesliga</td>\n",
       "      <td>Matchweek 1</td>\n",
       "      <td>Sat</td>\n",
       "      <td>Home</td>\n",
       "      <td>W</td>\n",
       "      <td>3.0</td>\n",
       "      <td>2.0</td>\n",
       "      <td>RB Leipzig</td>\n",
       "      <td>...</td>\n",
       "      <td>11.0</td>\n",
       "      <td>14.0</td>\n",
       "      <td>8.0</td>\n",
       "      <td>15.0</td>\n",
       "      <td>574.0</td>\n",
       "      <td>22.0</td>\n",
       "      <td>11.0</td>\n",
       "      <td>50.0</td>\n",
       "      <td>2023-2024</td>\n",
       "      <td>Bayer Leverkusen</td>\n",
       "    </tr>\n",
       "    <tr>\n",
       "      <th>2</th>\n",
       "      <td>2023-08-26</td>\n",
       "      <td>18:30</td>\n",
       "      <td>Bundesliga</td>\n",
       "      <td>Matchweek 2</td>\n",
       "      <td>Sat</td>\n",
       "      <td>Away</td>\n",
       "      <td>W</td>\n",
       "      <td>3.0</td>\n",
       "      <td>0.0</td>\n",
       "      <td>M'Gladbach</td>\n",
       "      <td>...</td>\n",
       "      <td>11.0</td>\n",
       "      <td>9.0</td>\n",
       "      <td>9.0</td>\n",
       "      <td>11.0</td>\n",
       "      <td>854.0</td>\n",
       "      <td>16.0</td>\n",
       "      <td>7.0</td>\n",
       "      <td>43.8</td>\n",
       "      <td>2023-2024</td>\n",
       "      <td>Bayer Leverkusen</td>\n",
       "    </tr>\n",
       "    <tr>\n",
       "      <th>3</th>\n",
       "      <td>2023-09-02</td>\n",
       "      <td>15:30</td>\n",
       "      <td>Bundesliga</td>\n",
       "      <td>Matchweek 3</td>\n",
       "      <td>Sat</td>\n",
       "      <td>Home</td>\n",
       "      <td>W</td>\n",
       "      <td>5.0</td>\n",
       "      <td>1.0</td>\n",
       "      <td>Darmstadt 98</td>\n",
       "      <td>...</td>\n",
       "      <td>4.0</td>\n",
       "      <td>10.0</td>\n",
       "      <td>4.0</td>\n",
       "      <td>3.0</td>\n",
       "      <td>913.0</td>\n",
       "      <td>26.0</td>\n",
       "      <td>15.0</td>\n",
       "      <td>57.7</td>\n",
       "      <td>2023-2024</td>\n",
       "      <td>Bayer Leverkusen</td>\n",
       "    </tr>\n",
       "    <tr>\n",
       "      <th>4</th>\n",
       "      <td>2023-09-15</td>\n",
       "      <td>20:30</td>\n",
       "      <td>Bundesliga</td>\n",
       "      <td>Matchweek 4</td>\n",
       "      <td>Fri</td>\n",
       "      <td>Away</td>\n",
       "      <td>D</td>\n",
       "      <td>2.0</td>\n",
       "      <td>2.0</td>\n",
       "      <td>Bayern Munich</td>\n",
       "      <td>...</td>\n",
       "      <td>12.0</td>\n",
       "      <td>9.0</td>\n",
       "      <td>21.0</td>\n",
       "      <td>19.0</td>\n",
       "      <td>744.0</td>\n",
       "      <td>33.0</td>\n",
       "      <td>16.0</td>\n",
       "      <td>48.5</td>\n",
       "      <td>2023-2024</td>\n",
       "      <td>Bayer Leverkusen</td>\n",
       "    </tr>\n",
       "    <tr>\n",
       "      <th>6</th>\n",
       "      <td>2023-09-24</td>\n",
       "      <td>15:30</td>\n",
       "      <td>Bundesliga</td>\n",
       "      <td>Matchweek 5</td>\n",
       "      <td>Sun</td>\n",
       "      <td>Home</td>\n",
       "      <td>W</td>\n",
       "      <td>4.0</td>\n",
       "      <td>1.0</td>\n",
       "      <td>Heidenheim</td>\n",
       "      <td>...</td>\n",
       "      <td>10.0</td>\n",
       "      <td>11.0</td>\n",
       "      <td>4.0</td>\n",
       "      <td>12.0</td>\n",
       "      <td>964.0</td>\n",
       "      <td>23.0</td>\n",
       "      <td>14.0</td>\n",
       "      <td>60.9</td>\n",
       "      <td>2023-2024</td>\n",
       "      <td>Bayer Leverkusen</td>\n",
       "    </tr>\n",
       "  </tbody>\n",
       "</table>\n",
       "<p>5 rows × 47 columns</p>\n",
       "</div>"
      ],
      "text/plain": [
       "         date   time        comp        round  day venue result   gf   ga  \\\n",
       "1  2023-08-19  15:30  Bundesliga  Matchweek 1  Sat  Home      W  3.0  2.0   \n",
       "2  2023-08-26  18:30  Bundesliga  Matchweek 2  Sat  Away      W  3.0  0.0   \n",
       "3  2023-09-02  15:30  Bundesliga  Matchweek 3  Sat  Home      W  5.0  1.0   \n",
       "4  2023-09-15  20:30  Bundesliga  Matchweek 4  Fri  Away      D  2.0  2.0   \n",
       "6  2023-09-24  15:30  Bundesliga  Matchweek 5  Sun  Home      W  4.0  1.0   \n",
       "\n",
       "        opponent  ...  tklw  blocks   int   clr touches att_y  succ succ%  \\\n",
       "1     RB Leipzig  ...  11.0    14.0   8.0  15.0   574.0  22.0  11.0  50.0   \n",
       "2     M'Gladbach  ...  11.0     9.0   9.0  11.0   854.0  16.0   7.0  43.8   \n",
       "3   Darmstadt 98  ...   4.0    10.0   4.0   3.0   913.0  26.0  15.0  57.7   \n",
       "4  Bayern Munich  ...  12.0     9.0  21.0  19.0   744.0  33.0  16.0  48.5   \n",
       "6     Heidenheim  ...  10.0    11.0   4.0  12.0   964.0  23.0  14.0  60.9   \n",
       "\n",
       "      season              team  \n",
       "1  2023-2024  Bayer Leverkusen  \n",
       "2  2023-2024  Bayer Leverkusen  \n",
       "3  2023-2024  Bayer Leverkusen  \n",
       "4  2023-2024  Bayer Leverkusen  \n",
       "6  2023-2024  Bayer Leverkusen  \n",
       "\n",
       "[5 rows x 47 columns]"
      ]
     },
     "execution_count": 58,
     "metadata": {},
     "output_type": "execute_result"
    }
   ],
   "source": [
    "# check the first rows\n",
    "match_df.head()"
   ]
  },
  {
   "cell_type": "code",
   "execution_count": null,
   "id": "49c236f3",
   "metadata": {},
   "outputs": [],
   "source": []
  }
 ],
 "metadata": {
  "kernelspec": {
   "display_name": "Python 3 (ipykernel)",
   "language": "python",
   "name": "python3"
  },
  "language_info": {
   "codemirror_mode": {
    "name": "ipython",
    "version": 3
   },
   "file_extension": ".py",
   "mimetype": "text/x-python",
   "name": "python",
   "nbconvert_exporter": "python",
   "pygments_lexer": "ipython3",
   "version": "3.11.5"
  },
  "toc": {
   "base_numbering": 1,
   "nav_menu": {},
   "number_sections": true,
   "sideBar": true,
   "skip_h1_title": false,
   "title_cell": "Table of Contents",
   "title_sidebar": "Contents",
   "toc_cell": false,
   "toc_position": {
    "height": "calc(100% - 180px)",
    "left": "10px",
    "top": "150px",
    "width": "221px"
   },
   "toc_section_display": true,
   "toc_window_display": true
  },
  "varInspector": {
   "cols": {
    "lenName": 16,
    "lenType": 16,
    "lenVar": 40
   },
   "kernels_config": {
    "python": {
     "delete_cmd_postfix": "",
     "delete_cmd_prefix": "del ",
     "library": "var_list.py",
     "varRefreshCmd": "print(var_dic_list())"
    },
    "r": {
     "delete_cmd_postfix": ") ",
     "delete_cmd_prefix": "rm(",
     "library": "var_list.r",
     "varRefreshCmd": "cat(var_dic_list()) "
    }
   },
   "types_to_exclude": [
    "module",
    "function",
    "builtin_function_or_method",
    "instance",
    "_Feature"
   ],
   "window_display": false
  }
 },
 "nbformat": 4,
 "nbformat_minor": 5
}
