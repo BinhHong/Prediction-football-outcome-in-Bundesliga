{
 "cells": [
  {
   "cell_type": "code",
   "execution_count": 27,
   "id": "522aa745",
   "metadata": {},
   "outputs": [],
   "source": [
    "import pandas as pd\n",
    "from pandas.plotting import scatter_matrix\n",
    "import numpy as np\n",
    "from IPython.display import display\n",
    "import matplotlib.pyplot as plt\n",
    "import seaborn as sns\n",
    "from sklearn.preprocessing import LabelEncoder\n",
    "from sklearn.metrics import accuracy_score, precision_score, recall_score, f1_score, roc_auc_score, confusion_matrix\n",
    "\n",
    "from sklearn.linear_model import LogisticRegression\n",
    "from sklearn.model_selection import GridSearchCV\n",
    "import warnings"
   ]
  },
  {
   "cell_type": "code",
   "execution_count": 28,
   "id": "d84ecc19",
   "metadata": {},
   "outputs": [],
   "source": [
    "warnings.filterwarnings(\"ignore\", category=UserWarning)"
   ]
  },
  {
   "cell_type": "code",
   "execution_count": 2,
   "id": "3bc95001",
   "metadata": {},
   "outputs": [
    {
     "data": {
      "text/html": [
       "<div>\n",
       "<style scoped>\n",
       "    .dataframe tbody tr th:only-of-type {\n",
       "        vertical-align: middle;\n",
       "    }\n",
       "\n",
       "    .dataframe tbody tr th {\n",
       "        vertical-align: top;\n",
       "    }\n",
       "\n",
       "    .dataframe thead th {\n",
       "        text-align: right;\n",
       "    }\n",
       "</style>\n",
       "<table border=\"1\" class=\"dataframe\">\n",
       "  <thead>\n",
       "    <tr style=\"text-align: right;\">\n",
       "      <th></th>\n",
       "      <th>date</th>\n",
       "      <th>comp</th>\n",
       "      <th>round</th>\n",
       "      <th>venue</th>\n",
       "      <th>result</th>\n",
       "      <th>gf</th>\n",
       "      <th>ga</th>\n",
       "      <th>opponent</th>\n",
       "      <th>xg</th>\n",
       "      <th>xga</th>\n",
       "      <th>...</th>\n",
       "      <th>crspa_average_opponent</th>\n",
       "      <th>tkl_average_opponent</th>\n",
       "      <th>tklw_average_opponent</th>\n",
       "      <th>blocks_average_opponent</th>\n",
       "      <th>int_average_opponent</th>\n",
       "      <th>clr_average_opponent</th>\n",
       "      <th>touches_average_opponent</th>\n",
       "      <th>att_y_average_opponent</th>\n",
       "      <th>succ_average_opponent</th>\n",
       "      <th>succ%_average_opponent</th>\n",
       "    </tr>\n",
       "  </thead>\n",
       "  <tbody>\n",
       "    <tr>\n",
       "      <th>0</th>\n",
       "      <td>2019-09-20</td>\n",
       "      <td>Bundesliga</td>\n",
       "      <td>Matchweek 5</td>\n",
       "      <td>Away</td>\n",
       "      <td>L</td>\n",
       "      <td>1.0</td>\n",
       "      <td>2.0</td>\n",
       "      <td>Schalke 04</td>\n",
       "      <td>0.8</td>\n",
       "      <td>1.0</td>\n",
       "      <td>...</td>\n",
       "      <td>1.75</td>\n",
       "      <td>20.00</td>\n",
       "      <td>13.75</td>\n",
       "      <td>14.50</td>\n",
       "      <td>11.75</td>\n",
       "      <td>18.00</td>\n",
       "      <td>567.25</td>\n",
       "      <td>13.50</td>\n",
       "      <td>8.25</td>\n",
       "      <td>63.775</td>\n",
       "    </tr>\n",
       "    <tr>\n",
       "      <th>1</th>\n",
       "      <td>2019-09-20</td>\n",
       "      <td>Bundesliga</td>\n",
       "      <td>Matchweek 5</td>\n",
       "      <td>Home</td>\n",
       "      <td>W</td>\n",
       "      <td>2.0</td>\n",
       "      <td>1.0</td>\n",
       "      <td>Mainz 05</td>\n",
       "      <td>1.0</td>\n",
       "      <td>0.8</td>\n",
       "      <td>...</td>\n",
       "      <td>1.50</td>\n",
       "      <td>17.75</td>\n",
       "      <td>11.25</td>\n",
       "      <td>11.25</td>\n",
       "      <td>11.50</td>\n",
       "      <td>21.50</td>\n",
       "      <td>528.75</td>\n",
       "      <td>15.25</td>\n",
       "      <td>7.75</td>\n",
       "      <td>49.675</td>\n",
       "    </tr>\n",
       "    <tr>\n",
       "      <th>2</th>\n",
       "      <td>2019-09-21</td>\n",
       "      <td>Bundesliga</td>\n",
       "      <td>Matchweek 5</td>\n",
       "      <td>Away</td>\n",
       "      <td>D</td>\n",
       "      <td>1.0</td>\n",
       "      <td>1.0</td>\n",
       "      <td>Freiburg</td>\n",
       "      <td>1.0</td>\n",
       "      <td>1.3</td>\n",
       "      <td>...</td>\n",
       "      <td>2.00</td>\n",
       "      <td>14.75</td>\n",
       "      <td>8.25</td>\n",
       "      <td>11.75</td>\n",
       "      <td>6.50</td>\n",
       "      <td>19.25</td>\n",
       "      <td>505.00</td>\n",
       "      <td>16.00</td>\n",
       "      <td>9.50</td>\n",
       "      <td>59.925</td>\n",
       "    </tr>\n",
       "    <tr>\n",
       "      <th>3</th>\n",
       "      <td>2019-09-21</td>\n",
       "      <td>Bundesliga</td>\n",
       "      <td>Matchweek 5</td>\n",
       "      <td>Home</td>\n",
       "      <td>L</td>\n",
       "      <td>0.0</td>\n",
       "      <td>3.0</td>\n",
       "      <td>RB Leipzig</td>\n",
       "      <td>0.7</td>\n",
       "      <td>1.5</td>\n",
       "      <td>...</td>\n",
       "      <td>1.25</td>\n",
       "      <td>19.75</td>\n",
       "      <td>11.50</td>\n",
       "      <td>11.75</td>\n",
       "      <td>13.50</td>\n",
       "      <td>26.00</td>\n",
       "      <td>632.75</td>\n",
       "      <td>18.25</td>\n",
       "      <td>12.00</td>\n",
       "      <td>65.650</td>\n",
       "    </tr>\n",
       "    <tr>\n",
       "      <th>4</th>\n",
       "      <td>2019-09-21</td>\n",
       "      <td>Bundesliga</td>\n",
       "      <td>Matchweek 5</td>\n",
       "      <td>Away</td>\n",
       "      <td>W</td>\n",
       "      <td>3.0</td>\n",
       "      <td>0.0</td>\n",
       "      <td>Werder Bremen</td>\n",
       "      <td>1.5</td>\n",
       "      <td>0.7</td>\n",
       "      <td>...</td>\n",
       "      <td>1.25</td>\n",
       "      <td>11.50</td>\n",
       "      <td>8.00</td>\n",
       "      <td>7.00</td>\n",
       "      <td>5.75</td>\n",
       "      <td>15.75</td>\n",
       "      <td>650.00</td>\n",
       "      <td>9.50</td>\n",
       "      <td>6.00</td>\n",
       "      <td>63.825</td>\n",
       "    </tr>\n",
       "  </tbody>\n",
       "</table>\n",
       "<p>5 rows × 145 columns</p>\n",
       "</div>"
      ],
      "text/plain": [
       "         date        comp        round venue result   gf   ga       opponent  \\\n",
       "0  2019-09-20  Bundesliga  Matchweek 5  Away      L  1.0  2.0     Schalke 04   \n",
       "1  2019-09-20  Bundesliga  Matchweek 5  Home      W  2.0  1.0       Mainz 05   \n",
       "2  2019-09-21  Bundesliga  Matchweek 5  Away      D  1.0  1.0       Freiburg   \n",
       "3  2019-09-21  Bundesliga  Matchweek 5  Home      L  0.0  3.0     RB Leipzig   \n",
       "4  2019-09-21  Bundesliga  Matchweek 5  Away      W  3.0  0.0  Werder Bremen   \n",
       "\n",
       "    xg  xga  ...  crspa_average_opponent  tkl_average_opponent  \\\n",
       "0  0.8  1.0  ...                    1.75                 20.00   \n",
       "1  1.0  0.8  ...                    1.50                 17.75   \n",
       "2  1.0  1.3  ...                    2.00                 14.75   \n",
       "3  0.7  1.5  ...                    1.25                 19.75   \n",
       "4  1.5  0.7  ...                    1.25                 11.50   \n",
       "\n",
       "   tklw_average_opponent  blocks_average_opponent  int_average_opponent  \\\n",
       "0                  13.75                    14.50                 11.75   \n",
       "1                  11.25                    11.25                 11.50   \n",
       "2                   8.25                    11.75                  6.50   \n",
       "3                  11.50                    11.75                 13.50   \n",
       "4                   8.00                     7.00                  5.75   \n",
       "\n",
       "   clr_average_opponent  touches_average_opponent  att_y_average_opponent  \\\n",
       "0                 18.00                    567.25                   13.50   \n",
       "1                 21.50                    528.75                   15.25   \n",
       "2                 19.25                    505.00                   16.00   \n",
       "3                 26.00                    632.75                   18.25   \n",
       "4                 15.75                    650.00                    9.50   \n",
       "\n",
       "   succ_average_opponent  succ%_average_opponent  \n",
       "0                   8.25                  63.775  \n",
       "1                   7.75                  49.675  \n",
       "2                   9.50                  59.925  \n",
       "3                  12.00                  65.650  \n",
       "4                   6.00                  63.825  \n",
       "\n",
       "[5 rows x 145 columns]"
      ]
     },
     "execution_count": 2,
     "metadata": {},
     "output_type": "execute_result"
    }
   ],
   "source": [
    "df = pd.read_pickle(\"../Datasets/matches_full.pkl\")\n",
    "df.head()"
   ]
  },
  {
   "cell_type": "code",
   "execution_count": 3,
   "id": "d669bd98",
   "metadata": {},
   "outputs": [
    {
     "data": {
      "text/plain": [
       "(2706, 145)"
      ]
     },
     "execution_count": 3,
     "metadata": {},
     "output_type": "execute_result"
    }
   ],
   "source": [
    "df.shape"
   ]
  },
  {
   "cell_type": "code",
   "execution_count": 4,
   "id": "39fb254a",
   "metadata": {},
   "outputs": [],
   "source": [
    "# train test\n",
    "train = df.loc[:int(df.shape[0]*0.7)]\n",
    "test = df.loc[int(df.shape[0]*0.7)+1:]"
   ]
  },
  {
   "cell_type": "code",
   "execution_count": 5,
   "id": "44967d9f",
   "metadata": {},
   "outputs": [],
   "source": [
    "# selected stats from team\n",
    "selected_stats_from_team = ['gf_average', 'ga_average', 'poss_average', 'sot%_average', 'saves_average', \n",
    "                  'stp_average', '#opa_average', 'kp_average', 'crspa_average', \n",
    "                  'tkl_average', 'blocks_average', 'int_average', 'att_y_average', \n",
    "                            'succ%_average', 'venue_encoded', 'team_encoded']"
   ]
  },
  {
   "cell_type": "code",
   "execution_count": 6,
   "id": "b18ba874",
   "metadata": {},
   "outputs": [
    {
     "data": {
      "text/plain": [
       "['gf_average',\n",
       " 'ga_average',\n",
       " 'poss_average',\n",
       " 'sot%_average',\n",
       " 'saves_average',\n",
       " 'stp_average',\n",
       " '#opa_average',\n",
       " 'kp_average',\n",
       " 'crspa_average',\n",
       " 'tkl_average',\n",
       " 'blocks_average',\n",
       " 'int_average',\n",
       " 'att_y_average',\n",
       " 'succ%_average',\n",
       " 'venue_encoded',\n",
       " 'team_encoded',\n",
       " 'gf_average_opponent',\n",
       " 'ga_average_opponent',\n",
       " 'poss_average_opponent',\n",
       " 'sot%_average_opponent',\n",
       " 'saves_average_opponent',\n",
       " 'stp_average_opponent',\n",
       " '#opa_average_opponent',\n",
       " 'kp_average_opponent',\n",
       " 'crspa_average_opponent',\n",
       " 'tkl_average_opponent',\n",
       " 'blocks_average_opponent',\n",
       " 'int_average_opponent',\n",
       " 'att_y_average_opponent',\n",
       " 'succ%_average_opponent',\n",
       " 'team_encoded_opponent']"
      ]
     },
     "execution_count": 6,
     "metadata": {},
     "output_type": "execute_result"
    }
   ],
   "source": [
    "# select stats\n",
    "selected_stats_from_opponent = [f\"{stat}_opponent\" for stat in selected_stats_from_team]\n",
    "predictors = selected_stats_from_team + selected_stats_from_opponent\n",
    "predictors.remove('venue_encoded_opponent')\n",
    "predictors"
   ]
  },
  {
   "cell_type": "code",
   "execution_count": 8,
   "id": "77026cc5",
   "metadata": {},
   "outputs": [
    {
     "data": {
      "text/html": [
       "<div>\n",
       "<style scoped>\n",
       "    .dataframe tbody tr th:only-of-type {\n",
       "        vertical-align: middle;\n",
       "    }\n",
       "\n",
       "    .dataframe tbody tr th {\n",
       "        vertical-align: top;\n",
       "    }\n",
       "\n",
       "    .dataframe thead th {\n",
       "        text-align: right;\n",
       "    }\n",
       "</style>\n",
       "<table border=\"1\" class=\"dataframe\">\n",
       "  <thead>\n",
       "    <tr style=\"text-align: right;\">\n",
       "      <th></th>\n",
       "      <th>date</th>\n",
       "      <th>comp</th>\n",
       "      <th>round</th>\n",
       "      <th>venue</th>\n",
       "      <th>result</th>\n",
       "      <th>gf</th>\n",
       "      <th>ga</th>\n",
       "      <th>opponent</th>\n",
       "      <th>xg</th>\n",
       "      <th>xga</th>\n",
       "      <th>...</th>\n",
       "      <th>crspa_average_opponent</th>\n",
       "      <th>tkl_average_opponent</th>\n",
       "      <th>tklw_average_opponent</th>\n",
       "      <th>blocks_average_opponent</th>\n",
       "      <th>int_average_opponent</th>\n",
       "      <th>clr_average_opponent</th>\n",
       "      <th>touches_average_opponent</th>\n",
       "      <th>att_y_average_opponent</th>\n",
       "      <th>succ_average_opponent</th>\n",
       "      <th>succ%_average_opponent</th>\n",
       "    </tr>\n",
       "  </thead>\n",
       "  <tbody>\n",
       "    <tr>\n",
       "      <th>0</th>\n",
       "      <td>2019-09-20</td>\n",
       "      <td>Bundesliga</td>\n",
       "      <td>Matchweek 5</td>\n",
       "      <td>Away</td>\n",
       "      <td>L</td>\n",
       "      <td>1.0</td>\n",
       "      <td>2.0</td>\n",
       "      <td>Schalke 04</td>\n",
       "      <td>0.8</td>\n",
       "      <td>1.0</td>\n",
       "      <td>...</td>\n",
       "      <td>1.75</td>\n",
       "      <td>20.00</td>\n",
       "      <td>13.75</td>\n",
       "      <td>14.50</td>\n",
       "      <td>11.75</td>\n",
       "      <td>18.00</td>\n",
       "      <td>567.25</td>\n",
       "      <td>13.50</td>\n",
       "      <td>8.25</td>\n",
       "      <td>63.775</td>\n",
       "    </tr>\n",
       "    <tr>\n",
       "      <th>1</th>\n",
       "      <td>2019-09-20</td>\n",
       "      <td>Bundesliga</td>\n",
       "      <td>Matchweek 5</td>\n",
       "      <td>Home</td>\n",
       "      <td>W</td>\n",
       "      <td>2.0</td>\n",
       "      <td>1.0</td>\n",
       "      <td>Mainz 05</td>\n",
       "      <td>1.0</td>\n",
       "      <td>0.8</td>\n",
       "      <td>...</td>\n",
       "      <td>1.50</td>\n",
       "      <td>17.75</td>\n",
       "      <td>11.25</td>\n",
       "      <td>11.25</td>\n",
       "      <td>11.50</td>\n",
       "      <td>21.50</td>\n",
       "      <td>528.75</td>\n",
       "      <td>15.25</td>\n",
       "      <td>7.75</td>\n",
       "      <td>49.675</td>\n",
       "    </tr>\n",
       "    <tr>\n",
       "      <th>2</th>\n",
       "      <td>2019-09-21</td>\n",
       "      <td>Bundesliga</td>\n",
       "      <td>Matchweek 5</td>\n",
       "      <td>Away</td>\n",
       "      <td>D</td>\n",
       "      <td>1.0</td>\n",
       "      <td>1.0</td>\n",
       "      <td>Freiburg</td>\n",
       "      <td>1.0</td>\n",
       "      <td>1.3</td>\n",
       "      <td>...</td>\n",
       "      <td>2.00</td>\n",
       "      <td>14.75</td>\n",
       "      <td>8.25</td>\n",
       "      <td>11.75</td>\n",
       "      <td>6.50</td>\n",
       "      <td>19.25</td>\n",
       "      <td>505.00</td>\n",
       "      <td>16.00</td>\n",
       "      <td>9.50</td>\n",
       "      <td>59.925</td>\n",
       "    </tr>\n",
       "    <tr>\n",
       "      <th>3</th>\n",
       "      <td>2019-09-21</td>\n",
       "      <td>Bundesliga</td>\n",
       "      <td>Matchweek 5</td>\n",
       "      <td>Home</td>\n",
       "      <td>L</td>\n",
       "      <td>0.0</td>\n",
       "      <td>3.0</td>\n",
       "      <td>RB Leipzig</td>\n",
       "      <td>0.7</td>\n",
       "      <td>1.5</td>\n",
       "      <td>...</td>\n",
       "      <td>1.25</td>\n",
       "      <td>19.75</td>\n",
       "      <td>11.50</td>\n",
       "      <td>11.75</td>\n",
       "      <td>13.50</td>\n",
       "      <td>26.00</td>\n",
       "      <td>632.75</td>\n",
       "      <td>18.25</td>\n",
       "      <td>12.00</td>\n",
       "      <td>65.650</td>\n",
       "    </tr>\n",
       "    <tr>\n",
       "      <th>4</th>\n",
       "      <td>2019-09-21</td>\n",
       "      <td>Bundesliga</td>\n",
       "      <td>Matchweek 5</td>\n",
       "      <td>Away</td>\n",
       "      <td>W</td>\n",
       "      <td>3.0</td>\n",
       "      <td>0.0</td>\n",
       "      <td>Werder Bremen</td>\n",
       "      <td>1.5</td>\n",
       "      <td>0.7</td>\n",
       "      <td>...</td>\n",
       "      <td>1.25</td>\n",
       "      <td>11.50</td>\n",
       "      <td>8.00</td>\n",
       "      <td>7.00</td>\n",
       "      <td>5.75</td>\n",
       "      <td>15.75</td>\n",
       "      <td>650.00</td>\n",
       "      <td>9.50</td>\n",
       "      <td>6.00</td>\n",
       "      <td>63.825</td>\n",
       "    </tr>\n",
       "  </tbody>\n",
       "</table>\n",
       "<p>5 rows × 145 columns</p>\n",
       "</div>"
      ],
      "text/plain": [
       "         date        comp        round venue result   gf   ga       opponent  \\\n",
       "0  2019-09-20  Bundesliga  Matchweek 5  Away      L  1.0  2.0     Schalke 04   \n",
       "1  2019-09-20  Bundesliga  Matchweek 5  Home      W  2.0  1.0       Mainz 05   \n",
       "2  2019-09-21  Bundesliga  Matchweek 5  Away      D  1.0  1.0       Freiburg   \n",
       "3  2019-09-21  Bundesliga  Matchweek 5  Home      L  0.0  3.0     RB Leipzig   \n",
       "4  2019-09-21  Bundesliga  Matchweek 5  Away      W  3.0  0.0  Werder Bremen   \n",
       "\n",
       "    xg  xga  ...  crspa_average_opponent  tkl_average_opponent  \\\n",
       "0  0.8  1.0  ...                    1.75                 20.00   \n",
       "1  1.0  0.8  ...                    1.50                 17.75   \n",
       "2  1.0  1.3  ...                    2.00                 14.75   \n",
       "3  0.7  1.5  ...                    1.25                 19.75   \n",
       "4  1.5  0.7  ...                    1.25                 11.50   \n",
       "\n",
       "   tklw_average_opponent  blocks_average_opponent  int_average_opponent  \\\n",
       "0                  13.75                    14.50                 11.75   \n",
       "1                  11.25                    11.25                 11.50   \n",
       "2                   8.25                    11.75                  6.50   \n",
       "3                  11.50                    11.75                 13.50   \n",
       "4                   8.00                     7.00                  5.75   \n",
       "\n",
       "   clr_average_opponent  touches_average_opponent  att_y_average_opponent  \\\n",
       "0                 18.00                    567.25                   13.50   \n",
       "1                 21.50                    528.75                   15.25   \n",
       "2                 19.25                    505.00                   16.00   \n",
       "3                 26.00                    632.75                   18.25   \n",
       "4                 15.75                    650.00                    9.50   \n",
       "\n",
       "   succ_average_opponent  succ%_average_opponent  \n",
       "0                   8.25                  63.775  \n",
       "1                   7.75                  49.675  \n",
       "2                   9.50                  59.925  \n",
       "3                  12.00                  65.650  \n",
       "4                   6.00                  63.825  \n",
       "\n",
       "[5 rows x 145 columns]"
      ]
     },
     "execution_count": 8,
     "metadata": {},
     "output_type": "execute_result"
    }
   ],
   "source": [
    "train.head()"
   ]
  },
  {
   "cell_type": "markdown",
   "id": "38c9b1ae",
   "metadata": {},
   "source": [
    "# Gridsearch CV"
   ]
  },
  {
   "cell_type": "code",
   "execution_count": 33,
   "id": "d7322858",
   "metadata": {},
   "outputs": [],
   "source": [
    "log_reg = LogisticRegression(max_iter=2000)\n",
    "parameters = {'C':[0.01, 0.1, 1, 10, 100]}"
   ]
  },
  {
   "cell_type": "code",
   "execution_count": 34,
   "id": "4eb95808",
   "metadata": {},
   "outputs": [
    {
     "data": {
      "text/html": [
       "<style>#sk-container-id-8 {color: black;}#sk-container-id-8 pre{padding: 0;}#sk-container-id-8 div.sk-toggleable {background-color: white;}#sk-container-id-8 label.sk-toggleable__label {cursor: pointer;display: block;width: 100%;margin-bottom: 0;padding: 0.3em;box-sizing: border-box;text-align: center;}#sk-container-id-8 label.sk-toggleable__label-arrow:before {content: \"▸\";float: left;margin-right: 0.25em;color: #696969;}#sk-container-id-8 label.sk-toggleable__label-arrow:hover:before {color: black;}#sk-container-id-8 div.sk-estimator:hover label.sk-toggleable__label-arrow:before {color: black;}#sk-container-id-8 div.sk-toggleable__content {max-height: 0;max-width: 0;overflow: hidden;text-align: left;background-color: #f0f8ff;}#sk-container-id-8 div.sk-toggleable__content pre {margin: 0.2em;color: black;border-radius: 0.25em;background-color: #f0f8ff;}#sk-container-id-8 input.sk-toggleable__control:checked~div.sk-toggleable__content {max-height: 200px;max-width: 100%;overflow: auto;}#sk-container-id-8 input.sk-toggleable__control:checked~label.sk-toggleable__label-arrow:before {content: \"▾\";}#sk-container-id-8 div.sk-estimator input.sk-toggleable__control:checked~label.sk-toggleable__label {background-color: #d4ebff;}#sk-container-id-8 div.sk-label input.sk-toggleable__control:checked~label.sk-toggleable__label {background-color: #d4ebff;}#sk-container-id-8 input.sk-hidden--visually {border: 0;clip: rect(1px 1px 1px 1px);clip: rect(1px, 1px, 1px, 1px);height: 1px;margin: -1px;overflow: hidden;padding: 0;position: absolute;width: 1px;}#sk-container-id-8 div.sk-estimator {font-family: monospace;background-color: #f0f8ff;border: 1px dotted black;border-radius: 0.25em;box-sizing: border-box;margin-bottom: 0.5em;}#sk-container-id-8 div.sk-estimator:hover {background-color: #d4ebff;}#sk-container-id-8 div.sk-parallel-item::after {content: \"\";width: 100%;border-bottom: 1px solid gray;flex-grow: 1;}#sk-container-id-8 div.sk-label:hover label.sk-toggleable__label {background-color: #d4ebff;}#sk-container-id-8 div.sk-serial::before {content: \"\";position: absolute;border-left: 1px solid gray;box-sizing: border-box;top: 0;bottom: 0;left: 50%;z-index: 0;}#sk-container-id-8 div.sk-serial {display: flex;flex-direction: column;align-items: center;background-color: white;padding-right: 0.2em;padding-left: 0.2em;position: relative;}#sk-container-id-8 div.sk-item {position: relative;z-index: 1;}#sk-container-id-8 div.sk-parallel {display: flex;align-items: stretch;justify-content: center;background-color: white;position: relative;}#sk-container-id-8 div.sk-item::before, #sk-container-id-8 div.sk-parallel-item::before {content: \"\";position: absolute;border-left: 1px solid gray;box-sizing: border-box;top: 0;bottom: 0;left: 50%;z-index: -1;}#sk-container-id-8 div.sk-parallel-item {display: flex;flex-direction: column;z-index: 1;position: relative;background-color: white;}#sk-container-id-8 div.sk-parallel-item:first-child::after {align-self: flex-end;width: 50%;}#sk-container-id-8 div.sk-parallel-item:last-child::after {align-self: flex-start;width: 50%;}#sk-container-id-8 div.sk-parallel-item:only-child::after {width: 0;}#sk-container-id-8 div.sk-dashed-wrapped {border: 1px dashed gray;margin: 0 0.4em 0.5em 0.4em;box-sizing: border-box;padding-bottom: 0.4em;background-color: white;}#sk-container-id-8 div.sk-label label {font-family: monospace;font-weight: bold;display: inline-block;line-height: 1.2em;}#sk-container-id-8 div.sk-label-container {text-align: center;}#sk-container-id-8 div.sk-container {/* jupyter's `normalize.less` sets `[hidden] { display: none; }` but bootstrap.min.css set `[hidden] { display: none !important; }` so we also need the `!important` here to be able to override the default hidden behavior on the sphinx rendered scikit-learn.org. See: https://github.com/scikit-learn/scikit-learn/issues/21755 */display: inline-block !important;position: relative;}#sk-container-id-8 div.sk-text-repr-fallback {display: none;}</style><div id=\"sk-container-id-8\" class=\"sk-top-container\"><div class=\"sk-text-repr-fallback\"><pre>GridSearchCV(estimator=LogisticRegression(max_iter=2000),\n",
       "             param_grid={&#x27;C&#x27;: [0.01, 0.1, 1, 10, 100]})</pre><b>In a Jupyter environment, please rerun this cell to show the HTML representation or trust the notebook. <br />On GitHub, the HTML representation is unable to render, please try loading this page with nbviewer.org.</b></div><div class=\"sk-container\" hidden><div class=\"sk-item sk-dashed-wrapped\"><div class=\"sk-label-container\"><div class=\"sk-label sk-toggleable\"><input class=\"sk-toggleable__control sk-hidden--visually\" id=\"sk-estimator-id-16\" type=\"checkbox\" ><label for=\"sk-estimator-id-16\" class=\"sk-toggleable__label sk-toggleable__label-arrow\">GridSearchCV</label><div class=\"sk-toggleable__content\"><pre>GridSearchCV(estimator=LogisticRegression(max_iter=2000),\n",
       "             param_grid={&#x27;C&#x27;: [0.01, 0.1, 1, 10, 100]})</pre></div></div></div><div class=\"sk-parallel\"><div class=\"sk-parallel-item\"><div class=\"sk-item\"><div class=\"sk-label-container\"><div class=\"sk-label sk-toggleable\"><input class=\"sk-toggleable__control sk-hidden--visually\" id=\"sk-estimator-id-17\" type=\"checkbox\" ><label for=\"sk-estimator-id-17\" class=\"sk-toggleable__label sk-toggleable__label-arrow\">estimator: LogisticRegression</label><div class=\"sk-toggleable__content\"><pre>LogisticRegression(max_iter=2000)</pre></div></div></div><div class=\"sk-serial\"><div class=\"sk-item\"><div class=\"sk-estimator sk-toggleable\"><input class=\"sk-toggleable__control sk-hidden--visually\" id=\"sk-estimator-id-18\" type=\"checkbox\" ><label for=\"sk-estimator-id-18\" class=\"sk-toggleable__label sk-toggleable__label-arrow\">LogisticRegression</label><div class=\"sk-toggleable__content\"><pre>LogisticRegression(max_iter=2000)</pre></div></div></div></div></div></div></div></div></div></div>"
      ],
      "text/plain": [
       "GridSearchCV(estimator=LogisticRegression(max_iter=2000),\n",
       "             param_grid={'C': [0.01, 0.1, 1, 10, 100]})"
      ]
     },
     "execution_count": 34,
     "metadata": {},
     "output_type": "execute_result"
    }
   ],
   "source": [
    "clf = GridSearchCV(log_reg, param_grid=parameters)\n",
    "clf.fit(train[predictors], train['result_encoded'])"
   ]
  },
  {
   "cell_type": "code",
   "execution_count": 35,
   "id": "fef0f544",
   "metadata": {},
   "outputs": [
    {
     "data": {
      "text/plain": [
       "{'C': 0.1}"
      ]
     },
     "execution_count": 35,
     "metadata": {},
     "output_type": "execute_result"
    }
   ],
   "source": [
    "clf.best_params_"
   ]
  },
  {
   "cell_type": "code",
   "execution_count": 36,
   "id": "51ae31a7",
   "metadata": {},
   "outputs": [],
   "source": [
    "log_reg = LogisticRegression(penalty='l2', tol=0.0001, C=0.1, solver='lbfgs',\n",
    "                             max_iter=1000, multi_class='auto', random_state=42)"
   ]
  },
  {
   "cell_type": "code",
   "execution_count": 37,
   "id": "717bc292",
   "metadata": {},
   "outputs": [
    {
     "data": {
      "text/html": [
       "<style>#sk-container-id-9 {color: black;}#sk-container-id-9 pre{padding: 0;}#sk-container-id-9 div.sk-toggleable {background-color: white;}#sk-container-id-9 label.sk-toggleable__label {cursor: pointer;display: block;width: 100%;margin-bottom: 0;padding: 0.3em;box-sizing: border-box;text-align: center;}#sk-container-id-9 label.sk-toggleable__label-arrow:before {content: \"▸\";float: left;margin-right: 0.25em;color: #696969;}#sk-container-id-9 label.sk-toggleable__label-arrow:hover:before {color: black;}#sk-container-id-9 div.sk-estimator:hover label.sk-toggleable__label-arrow:before {color: black;}#sk-container-id-9 div.sk-toggleable__content {max-height: 0;max-width: 0;overflow: hidden;text-align: left;background-color: #f0f8ff;}#sk-container-id-9 div.sk-toggleable__content pre {margin: 0.2em;color: black;border-radius: 0.25em;background-color: #f0f8ff;}#sk-container-id-9 input.sk-toggleable__control:checked~div.sk-toggleable__content {max-height: 200px;max-width: 100%;overflow: auto;}#sk-container-id-9 input.sk-toggleable__control:checked~label.sk-toggleable__label-arrow:before {content: \"▾\";}#sk-container-id-9 div.sk-estimator input.sk-toggleable__control:checked~label.sk-toggleable__label {background-color: #d4ebff;}#sk-container-id-9 div.sk-label input.sk-toggleable__control:checked~label.sk-toggleable__label {background-color: #d4ebff;}#sk-container-id-9 input.sk-hidden--visually {border: 0;clip: rect(1px 1px 1px 1px);clip: rect(1px, 1px, 1px, 1px);height: 1px;margin: -1px;overflow: hidden;padding: 0;position: absolute;width: 1px;}#sk-container-id-9 div.sk-estimator {font-family: monospace;background-color: #f0f8ff;border: 1px dotted black;border-radius: 0.25em;box-sizing: border-box;margin-bottom: 0.5em;}#sk-container-id-9 div.sk-estimator:hover {background-color: #d4ebff;}#sk-container-id-9 div.sk-parallel-item::after {content: \"\";width: 100%;border-bottom: 1px solid gray;flex-grow: 1;}#sk-container-id-9 div.sk-label:hover label.sk-toggleable__label {background-color: #d4ebff;}#sk-container-id-9 div.sk-serial::before {content: \"\";position: absolute;border-left: 1px solid gray;box-sizing: border-box;top: 0;bottom: 0;left: 50%;z-index: 0;}#sk-container-id-9 div.sk-serial {display: flex;flex-direction: column;align-items: center;background-color: white;padding-right: 0.2em;padding-left: 0.2em;position: relative;}#sk-container-id-9 div.sk-item {position: relative;z-index: 1;}#sk-container-id-9 div.sk-parallel {display: flex;align-items: stretch;justify-content: center;background-color: white;position: relative;}#sk-container-id-9 div.sk-item::before, #sk-container-id-9 div.sk-parallel-item::before {content: \"\";position: absolute;border-left: 1px solid gray;box-sizing: border-box;top: 0;bottom: 0;left: 50%;z-index: -1;}#sk-container-id-9 div.sk-parallel-item {display: flex;flex-direction: column;z-index: 1;position: relative;background-color: white;}#sk-container-id-9 div.sk-parallel-item:first-child::after {align-self: flex-end;width: 50%;}#sk-container-id-9 div.sk-parallel-item:last-child::after {align-self: flex-start;width: 50%;}#sk-container-id-9 div.sk-parallel-item:only-child::after {width: 0;}#sk-container-id-9 div.sk-dashed-wrapped {border: 1px dashed gray;margin: 0 0.4em 0.5em 0.4em;box-sizing: border-box;padding-bottom: 0.4em;background-color: white;}#sk-container-id-9 div.sk-label label {font-family: monospace;font-weight: bold;display: inline-block;line-height: 1.2em;}#sk-container-id-9 div.sk-label-container {text-align: center;}#sk-container-id-9 div.sk-container {/* jupyter's `normalize.less` sets `[hidden] { display: none; }` but bootstrap.min.css set `[hidden] { display: none !important; }` so we also need the `!important` here to be able to override the default hidden behavior on the sphinx rendered scikit-learn.org. See: https://github.com/scikit-learn/scikit-learn/issues/21755 */display: inline-block !important;position: relative;}#sk-container-id-9 div.sk-text-repr-fallback {display: none;}</style><div id=\"sk-container-id-9\" class=\"sk-top-container\"><div class=\"sk-text-repr-fallback\"><pre>LogisticRegression(C=0.1, max_iter=1000, random_state=42)</pre><b>In a Jupyter environment, please rerun this cell to show the HTML representation or trust the notebook. <br />On GitHub, the HTML representation is unable to render, please try loading this page with nbviewer.org.</b></div><div class=\"sk-container\" hidden><div class=\"sk-item\"><div class=\"sk-estimator sk-toggleable\"><input class=\"sk-toggleable__control sk-hidden--visually\" id=\"sk-estimator-id-19\" type=\"checkbox\" checked><label for=\"sk-estimator-id-19\" class=\"sk-toggleable__label sk-toggleable__label-arrow\">LogisticRegression</label><div class=\"sk-toggleable__content\"><pre>LogisticRegression(C=0.1, max_iter=1000, random_state=42)</pre></div></div></div></div></div>"
      ],
      "text/plain": [
       "LogisticRegression(C=0.1, max_iter=1000, random_state=42)"
      ]
     },
     "execution_count": 37,
     "metadata": {},
     "output_type": "execute_result"
    }
   ],
   "source": [
    "log_reg.fit(train[predictors], train['result_encoded'])"
   ]
  },
  {
   "cell_type": "markdown",
   "id": "d41cf87c",
   "metadata": {},
   "source": [
    "# Prediction"
   ]
  },
  {
   "cell_type": "code",
   "execution_count": 50,
   "id": "519db6ab",
   "metadata": {},
   "outputs": [
    {
     "name": "stdout",
     "output_type": "stream",
     "text": [
      "Accuracy on test set 0.5104808877928483\n"
     ]
    }
   ],
   "source": [
    "# accuracy on test set\n",
    "\n",
    "prob_preds = log_reg.predict_proba(test[predictors])\n",
    "preds = log_reg.predict(test[predictors])\n",
    "print(\"Accuracy on test set\", accuracy_score(test['result_encoded'], preds))"
   ]
  },
  {
   "cell_type": "code",
   "execution_count": 51,
   "id": "38967954",
   "metadata": {
    "scrolled": true
   },
   "outputs": [
    {
     "name": "stdout",
     "output_type": "stream",
     "text": [
      "Accuracy on training set 0.5150395778364116\n"
     ]
    }
   ],
   "source": [
    "# accuracy on training set\n",
    "preds_on_training = log_reg.predict(train[predictors])\n",
    "print(\"Accuracy on training set\", accuracy_score(train['result_encoded'], preds_on_training))"
   ]
  },
  {
   "cell_type": "code",
   "execution_count": 45,
   "id": "40766a1b",
   "metadata": {},
   "outputs": [
    {
     "data": {
      "image/png": "[encoded data removed]",
      "text/plain": [
       "<Figure size 1000x600 with 1 Axes>"
      ]
     },
     "metadata": {},
     "output_type": "display_data"
    }
   ],
   "source": [
    "# confusion matrix\n",
    "cm = confusion_matrix(test['result_encoded'], preds)\n",
    "# plot\n",
    "plt.figure(figsize=(10,6))\n",
    "sns.heatmap(cm, annot=True, cmap='Blues', cbar=False)\n",
    "plt.xlabel('Predicted labels')\n",
    "plt.ylabel('Actual labels')\n",
    "plt.title('Confusion matrix')\n",
    "plt.show()"
   ]
  },
  {
   "cell_type": "code",
   "execution_count": null,
   "id": "9b34fe16",
   "metadata": {},
   "outputs": [],
   "source": []
  }
 ],
 "metadata": {
  "kernelspec": {
   "display_name": "Python 3 (ipykernel)",
   "language": "python",
   "name": "python3"
  },
  "language_info": {
   "codemirror_mode": {
    "name": "ipython",
    "version": 3
   },
   "file_extension": ".py",
   "mimetype": "text/x-python",
   "name": "python",
   "nbconvert_exporter": "python",
   "pygments_lexer": "ipython3",
   "version": "3.11.5"
  },
  "toc": {
   "base_numbering": 1,
   "nav_menu": {},
   "number_sections": true,
   "sideBar": true,
   "skip_h1_title": false,
   "title_cell": "Table of Contents",
   "title_sidebar": "Contents",
   "toc_cell": false,
   "toc_position": {},
   "toc_section_display": true,
   "toc_window_display": false
  },
  "varInspector": {
   "cols": {
    "lenName": 16,
    "lenType": 16,
    "lenVar": 40
   },
   "kernels_config": {
    "python": {
     "delete_cmd_postfix": "",
     "delete_cmd_prefix": "del ",
     "library": "var_list.py",
     "varRefreshCmd": "print(var_dic_list())"
    },
    "r": {
     "delete_cmd_postfix": ") ",
     "delete_cmd_prefix": "rm(",
     "library": "var_list.r",
     "varRefreshCmd": "cat(var_dic_list()) "
    }
   },
   "types_to_exclude": [
    "module",
    "function",
    "builtin_function_or_method",
    "instance",
    "_Feature"
   ],
   "window_display": false
  }
 },
 "nbformat": 4,
 "nbformat_minor": 5
}
