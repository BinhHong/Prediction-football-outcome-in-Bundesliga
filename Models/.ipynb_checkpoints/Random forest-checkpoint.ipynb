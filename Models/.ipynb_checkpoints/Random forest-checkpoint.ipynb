{
 "cells": [
  {
   "cell_type": "code",
   "execution_count": 1,
   "id": "b7fc743a",
   "metadata": {},
   "outputs": [],
   "source": [
    "import pandas as pd\n",
    "from pandas.plotting import scatter_matrix\n",
    "import numpy as np\n",
    "from IPython.display import display\n",
    "import matplotlib.pyplot as plt\n",
    "import seaborn as sns\n",
    "from sklearn.preprocessing import LabelEncoder\n",
    "from sklearn.metrics import accuracy_score, precision_score, recall_score, f1_score, roc_auc_score, confusion_matrix\n",
    "\n",
    "from sklearn.ensemble import RandomForestClassifier\n",
    "from sklearn.model_selection import GridSearchCV"
   ]
  },
  {
   "cell_type": "markdown",
   "id": "60131069",
   "metadata": {},
   "source": [
    "# Selected stats"
   ]
  },
  {
   "cell_type": "code",
   "execution_count": 2,
   "id": "8b1fd7df",
   "metadata": {},
   "outputs": [
    {
     "data": {
      "text/html": [
       "<div>\n",
       "<style scoped>\n",
       "    .dataframe tbody tr th:only-of-type {\n",
       "        vertical-align: middle;\n",
       "    }\n",
       "\n",
       "    .dataframe tbody tr th {\n",
       "        vertical-align: top;\n",
       "    }\n",
       "\n",
       "    .dataframe thead th {\n",
       "        text-align: right;\n",
       "    }\n",
       "</style>\n",
       "<table border=\"1\" class=\"dataframe\">\n",
       "  <thead>\n",
       "    <tr style=\"text-align: right;\">\n",
       "      <th></th>\n",
       "      <th>date</th>\n",
       "      <th>comp</th>\n",
       "      <th>round</th>\n",
       "      <th>venue</th>\n",
       "      <th>result</th>\n",
       "      <th>gf</th>\n",
       "      <th>ga</th>\n",
       "      <th>opponent</th>\n",
       "      <th>xg</th>\n",
       "      <th>xga</th>\n",
       "      <th>...</th>\n",
       "      <th>crspa_average_opponent</th>\n",
       "      <th>tkl_average_opponent</th>\n",
       "      <th>tklw_average_opponent</th>\n",
       "      <th>blocks_average_opponent</th>\n",
       "      <th>int_average_opponent</th>\n",
       "      <th>clr_average_opponent</th>\n",
       "      <th>touches_average_opponent</th>\n",
       "      <th>att_y_average_opponent</th>\n",
       "      <th>succ_average_opponent</th>\n",
       "      <th>succ%_average_opponent</th>\n",
       "    </tr>\n",
       "  </thead>\n",
       "  <tbody>\n",
       "    <tr>\n",
       "      <th>0</th>\n",
       "      <td>2019-09-20</td>\n",
       "      <td>Bundesliga</td>\n",
       "      <td>Matchweek 5</td>\n",
       "      <td>Away</td>\n",
       "      <td>L</td>\n",
       "      <td>1.0</td>\n",
       "      <td>2.0</td>\n",
       "      <td>Schalke 04</td>\n",
       "      <td>0.8</td>\n",
       "      <td>1.0</td>\n",
       "      <td>...</td>\n",
       "      <td>1.75</td>\n",
       "      <td>20.00</td>\n",
       "      <td>13.75</td>\n",
       "      <td>14.50</td>\n",
       "      <td>11.75</td>\n",
       "      <td>18.00</td>\n",
       "      <td>567.25</td>\n",
       "      <td>13.50</td>\n",
       "      <td>8.25</td>\n",
       "      <td>63.775</td>\n",
       "    </tr>\n",
       "    <tr>\n",
       "      <th>1</th>\n",
       "      <td>2019-09-20</td>\n",
       "      <td>Bundesliga</td>\n",
       "      <td>Matchweek 5</td>\n",
       "      <td>Home</td>\n",
       "      <td>W</td>\n",
       "      <td>2.0</td>\n",
       "      <td>1.0</td>\n",
       "      <td>Mainz 05</td>\n",
       "      <td>1.0</td>\n",
       "      <td>0.8</td>\n",
       "      <td>...</td>\n",
       "      <td>1.50</td>\n",
       "      <td>17.75</td>\n",
       "      <td>11.25</td>\n",
       "      <td>11.25</td>\n",
       "      <td>11.50</td>\n",
       "      <td>21.50</td>\n",
       "      <td>528.75</td>\n",
       "      <td>15.25</td>\n",
       "      <td>7.75</td>\n",
       "      <td>49.675</td>\n",
       "    </tr>\n",
       "    <tr>\n",
       "      <th>2</th>\n",
       "      <td>2019-09-21</td>\n",
       "      <td>Bundesliga</td>\n",
       "      <td>Matchweek 5</td>\n",
       "      <td>Away</td>\n",
       "      <td>D</td>\n",
       "      <td>1.0</td>\n",
       "      <td>1.0</td>\n",
       "      <td>Freiburg</td>\n",
       "      <td>1.0</td>\n",
       "      <td>1.3</td>\n",
       "      <td>...</td>\n",
       "      <td>2.00</td>\n",
       "      <td>14.75</td>\n",
       "      <td>8.25</td>\n",
       "      <td>11.75</td>\n",
       "      <td>6.50</td>\n",
       "      <td>19.25</td>\n",
       "      <td>505.00</td>\n",
       "      <td>16.00</td>\n",
       "      <td>9.50</td>\n",
       "      <td>59.925</td>\n",
       "    </tr>\n",
       "    <tr>\n",
       "      <th>3</th>\n",
       "      <td>2019-09-21</td>\n",
       "      <td>Bundesliga</td>\n",
       "      <td>Matchweek 5</td>\n",
       "      <td>Home</td>\n",
       "      <td>L</td>\n",
       "      <td>0.0</td>\n",
       "      <td>3.0</td>\n",
       "      <td>RB Leipzig</td>\n",
       "      <td>0.7</td>\n",
       "      <td>1.5</td>\n",
       "      <td>...</td>\n",
       "      <td>1.25</td>\n",
       "      <td>19.75</td>\n",
       "      <td>11.50</td>\n",
       "      <td>11.75</td>\n",
       "      <td>13.50</td>\n",
       "      <td>26.00</td>\n",
       "      <td>632.75</td>\n",
       "      <td>18.25</td>\n",
       "      <td>12.00</td>\n",
       "      <td>65.650</td>\n",
       "    </tr>\n",
       "    <tr>\n",
       "      <th>4</th>\n",
       "      <td>2019-09-21</td>\n",
       "      <td>Bundesliga</td>\n",
       "      <td>Matchweek 5</td>\n",
       "      <td>Away</td>\n",
       "      <td>W</td>\n",
       "      <td>3.0</td>\n",
       "      <td>0.0</td>\n",
       "      <td>Werder Bremen</td>\n",
       "      <td>1.5</td>\n",
       "      <td>0.7</td>\n",
       "      <td>...</td>\n",
       "      <td>1.25</td>\n",
       "      <td>11.50</td>\n",
       "      <td>8.00</td>\n",
       "      <td>7.00</td>\n",
       "      <td>5.75</td>\n",
       "      <td>15.75</td>\n",
       "      <td>650.00</td>\n",
       "      <td>9.50</td>\n",
       "      <td>6.00</td>\n",
       "      <td>63.825</td>\n",
       "    </tr>\n",
       "  </tbody>\n",
       "</table>\n",
       "<p>5 rows × 145 columns</p>\n",
       "</div>"
      ],
      "text/plain": [
       "         date        comp        round venue result   gf   ga       opponent  \\\n",
       "0  2019-09-20  Bundesliga  Matchweek 5  Away      L  1.0  2.0     Schalke 04   \n",
       "1  2019-09-20  Bundesliga  Matchweek 5  Home      W  2.0  1.0       Mainz 05   \n",
       "2  2019-09-21  Bundesliga  Matchweek 5  Away      D  1.0  1.0       Freiburg   \n",
       "3  2019-09-21  Bundesliga  Matchweek 5  Home      L  0.0  3.0     RB Leipzig   \n",
       "4  2019-09-21  Bundesliga  Matchweek 5  Away      W  3.0  0.0  Werder Bremen   \n",
       "\n",
       "    xg  xga  ...  crspa_average_opponent  tkl_average_opponent  \\\n",
       "0  0.8  1.0  ...                    1.75                 20.00   \n",
       "1  1.0  0.8  ...                    1.50                 17.75   \n",
       "2  1.0  1.3  ...                    2.00                 14.75   \n",
       "3  0.7  1.5  ...                    1.25                 19.75   \n",
       "4  1.5  0.7  ...                    1.25                 11.50   \n",
       "\n",
       "   tklw_average_opponent  blocks_average_opponent  int_average_opponent  \\\n",
       "0                  13.75                    14.50                 11.75   \n",
       "1                  11.25                    11.25                 11.50   \n",
       "2                   8.25                    11.75                  6.50   \n",
       "3                  11.50                    11.75                 13.50   \n",
       "4                   8.00                     7.00                  5.75   \n",
       "\n",
       "   clr_average_opponent  touches_average_opponent  att_y_average_opponent  \\\n",
       "0                 18.00                    567.25                   13.50   \n",
       "1                 21.50                    528.75                   15.25   \n",
       "2                 19.25                    505.00                   16.00   \n",
       "3                 26.00                    632.75                   18.25   \n",
       "4                 15.75                    650.00                    9.50   \n",
       "\n",
       "   succ_average_opponent  succ%_average_opponent  \n",
       "0                   8.25                  63.775  \n",
       "1                   7.75                  49.675  \n",
       "2                   9.50                  59.925  \n",
       "3                  12.00                  65.650  \n",
       "4                   6.00                  63.825  \n",
       "\n",
       "[5 rows x 145 columns]"
      ]
     },
     "execution_count": 2,
     "metadata": {},
     "output_type": "execute_result"
    }
   ],
   "source": [
    "df = pd.read_pickle(\"../Datasets/matches_full.pkl\")\n",
    "df.head()"
   ]
  },
  {
   "cell_type": "code",
   "execution_count": 3,
   "id": "8dccfdba",
   "metadata": {},
   "outputs": [
    {
     "data": {
      "text/plain": [
       "(2706, 145)"
      ]
     },
     "execution_count": 3,
     "metadata": {},
     "output_type": "execute_result"
    }
   ],
   "source": [
    "df.shape"
   ]
  },
  {
   "cell_type": "code",
   "execution_count": 4,
   "id": "b34a68ee",
   "metadata": {},
   "outputs": [],
   "source": [
    "# train test\n",
    "train = df.loc[:int(df.shape[0]*0.7)]\n",
    "test = df.loc[int(df.shape[0]*0.7)+1:]"
   ]
  },
  {
   "cell_type": "code",
   "execution_count": 5,
   "id": "21011ceb",
   "metadata": {},
   "outputs": [],
   "source": [
    "# selected stats from team\n",
    "selected_stats_from_team = ['gf_average', 'ga_average', 'poss_average', 'sot%_average', 'saves_average', \n",
    "                  'stp_average', '#opa_average', 'kp_average', 'crspa_average', \n",
    "                  'tkl_average', 'blocks_average', 'int_average', 'att_y_average', \n",
    "                            'succ%_average', 'venue_encoded', 'team_encoded']"
   ]
  },
  {
   "cell_type": "code",
   "execution_count": 6,
   "id": "5a78b740",
   "metadata": {},
   "outputs": [
    {
     "data": {
      "text/plain": [
       "['gf_average',\n",
       " 'ga_average',\n",
       " 'poss_average',\n",
       " 'sot%_average',\n",
       " 'saves_average',\n",
       " 'stp_average',\n",
       " '#opa_average',\n",
       " 'kp_average',\n",
       " 'crspa_average',\n",
       " 'tkl_average',\n",
       " 'blocks_average',\n",
       " 'int_average',\n",
       " 'att_y_average',\n",
       " 'succ%_average',\n",
       " 'venue_encoded',\n",
       " 'team_encoded',\n",
       " 'gf_average_opponent',\n",
       " 'ga_average_opponent',\n",
       " 'poss_average_opponent',\n",
       " 'sot%_average_opponent',\n",
       " 'saves_average_opponent',\n",
       " 'stp_average_opponent',\n",
       " '#opa_average_opponent',\n",
       " 'kp_average_opponent',\n",
       " 'crspa_average_opponent',\n",
       " 'tkl_average_opponent',\n",
       " 'blocks_average_opponent',\n",
       " 'int_average_opponent',\n",
       " 'att_y_average_opponent',\n",
       " 'succ%_average_opponent',\n",
       " 'team_encoded_opponent']"
      ]
     },
     "execution_count": 6,
     "metadata": {},
     "output_type": "execute_result"
    }
   ],
   "source": [
    "# select stats\n",
    "selected_stats_from_opponent = [f\"{stat}_opponent\" for stat in selected_stats_from_team]\n",
    "predictors = selected_stats_from_team + selected_stats_from_opponent\n",
    "predictors.remove('venue_encoded_opponent')\n",
    "predictors"
   ]
  },
  {
   "cell_type": "markdown",
   "id": "2748fd8d",
   "metadata": {},
   "source": [
    "# GridsearchCV"
   ]
  },
  {
   "cell_type": "code",
   "execution_count": 7,
   "id": "562a0f9e",
   "metadata": {},
   "outputs": [],
   "source": [
    "rf = RandomForestClassifier()\n",
    "parameters = {'n_estimators':[50,100,200,300], 'min_samples_split':[2, 5, 10, 15, 20], 'max_features':['sqrt', 'log2', None]}"
   ]
  },
  {
   "cell_type": "code",
   "execution_count": null,
   "id": "60502f1d",
   "metadata": {},
   "outputs": [],
   "source": [
    "clf = GridSearchCV(rf, param_grid=parameters)\n",
    "clf.fit(train[predictors], train['result_encoded'])"
   ]
  },
  {
   "cell_type": "code",
   "execution_count": null,
   "id": "b8a18373",
   "metadata": {},
   "outputs": [],
   "source": [
    "# best paragrams\n",
    "clf.best_params_"
   ]
  },
  {
   "cell_type": "code",
   "execution_count": null,
   "id": "a4a8bf7b",
   "metadata": {},
   "outputs": [],
   "source": [
    "# best score\n",
    "clf.best_score_"
   ]
  },
  {
   "cell_type": "code",
   "execution_count": null,
   "id": "d8f10c89",
   "metadata": {},
   "outputs": [],
   "source": [
    "# the rows with rank 1\n",
    "pd.DataFrame(clf.cv_results_)[pd.DataFrame(clf.cv_results_)['rank_test_score']==1]"
   ]
  },
  {
   "cell_type": "markdown",
   "id": "d203586e",
   "metadata": {},
   "source": [
    "# Evaluation"
   ]
  },
  {
   "cell_type": "code",
   "execution_count": null,
   "id": "71a9609a",
   "metadata": {},
   "outputs": [],
   "source": [
    "# check accuracy\n",
    "rf = RandomForestClassifier(n_estimators=300, min_samples_split=10)\n",
    "rf.fit(train[predictors], train['result_encoded'])\n",
    "\n",
    "prob_preds = rf.predict_proba(test[predictors])\n",
    "preds = rf.predict(test[predictors])\n",
    "\n",
    "print(\"Accuracy on test set\", accuracy_score(test['result_encoded'], preds))\n",
    "\n",
    "preds_on_training = rf.predict(train[predictors])\n",
    "print(\"Accuracy on training set\", accuracy_score(train['result_encoded'], preds_on_training))"
   ]
  },
  {
   "cell_type": "code",
   "execution_count": null,
   "id": "330bff9f",
   "metadata": {},
   "outputs": [],
   "source": [
    "# confusion matrix\n",
    "cm = confusion_matrix(test['result_encoded'], preds)\n",
    "\n",
    "# Visualize confusion matrix\n",
    "plt.figure(figsize=(8, 6))\n",
    "sns.heatmap(cm, annot=True, fmt='d', cmap='Blues', cbar=False)\n",
    "plt.xlabel('Predicted labels')\n",
    "plt.ylabel('True labels')\n",
    "plt.title('Confusion Matrix')\n",
    "plt.show()"
   ]
  },
  {
   "cell_type": "markdown",
   "id": "c1a84f70",
   "metadata": {},
   "source": [
    "- Win = 2\n",
    "- Draw = 0\n",
    "- Lose = 1"
   ]
  },
  {
   "cell_type": "code",
   "execution_count": null,
   "id": "4e375251",
   "metadata": {},
   "outputs": [],
   "source": [
    "metrics = [precision_score, recall_score, f1_score]\n",
    "averages = ['micro', 'macro', 'weighted']\n",
    "\n",
    "for metric in metrics:\n",
    "    for average in averages:\n",
    "        name = metric.__name__.replace(\"_score\",\"\")\n",
    "        print(f\"{name} of the model with average = {average}:\",  metric(test['result_encoded'], preds, average=average), \"\\n\")"
   ]
  },
  {
   "cell_type": "markdown",
   "id": "18c2143a",
   "metadata": {},
   "source": [
    "# features importance"
   ]
  },
  {
   "cell_type": "code",
   "execution_count": null,
   "id": "8ca8d097",
   "metadata": {},
   "outputs": [],
   "source": [
    "# Get feature importances\n",
    "importances = rf.feature_importances_\n",
    "\n",
    "# Sort feature importances in descending order\n",
    "indices = np.argsort(importances)[::-1]"
   ]
  },
  {
   "cell_type": "code",
   "execution_count": null,
   "id": "0ffa654a",
   "metadata": {},
   "outputs": [],
   "source": [
    "print(\"Feature ranking:\")\n",
    "for f in range(train[predictors].shape[1]):\n",
    "    print(f\"{f + 1}. {predictors[f]} ({importances[indices[f]]})\")"
   ]
  },
  {
   "cell_type": "code",
   "execution_count": null,
   "id": "618f6ac7",
   "metadata": {},
   "outputs": [],
   "source": []
  }
 ],
 "metadata": {
  "kernelspec": {
   "display_name": "Python 3 (ipykernel)",
   "language": "python",
   "name": "python3"
  },
  "language_info": {
   "codemirror_mode": {
    "name": "ipython",
    "version": 3
   },
   "file_extension": ".py",
   "mimetype": "text/x-python",
   "name": "python",
   "nbconvert_exporter": "python",
   "pygments_lexer": "ipython3",
   "version": "3.11.5"
  },
  "toc": {
   "base_numbering": 1,
   "nav_menu": {},
   "number_sections": true,
   "sideBar": true,
   "skip_h1_title": false,
   "title_cell": "Table of Contents",
   "title_sidebar": "Contents",
   "toc_cell": false,
   "toc_position": {},
   "toc_section_display": true,
   "toc_window_display": false
  },
  "varInspector": {
   "cols": {
    "lenName": 16,
    "lenType": 16,
    "lenVar": 40
   },
   "kernels_config": {
    "python": {
     "delete_cmd_postfix": "",
     "delete_cmd_prefix": "del ",
     "library": "var_list.py",
     "varRefreshCmd": "print(var_dic_list())"
    },
    "r": {
     "delete_cmd_postfix": ") ",
     "delete_cmd_prefix": "rm(",
     "library": "var_list.r",
     "varRefreshCmd": "cat(var_dic_list()) "
    }
   },
   "types_to_exclude": [
    "module",
    "function",
    "builtin_function_or_method",
    "instance",
    "_Feature"
   ],
   "window_display": false
  }
 },
 "nbformat": 4,
 "nbformat_minor": 5
}
