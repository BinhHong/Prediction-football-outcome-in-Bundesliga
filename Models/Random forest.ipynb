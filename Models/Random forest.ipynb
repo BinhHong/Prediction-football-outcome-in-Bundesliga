{
 "cells": [
  {
   "cell_type": "code",
   "execution_count": 1,
   "id": "b7fc743a",
   "metadata": {},
   "outputs": [],
   "source": [
    "import pandas as pd\n",
    "from pandas.plotting import scatter_matrix\n",
    "import numpy as np\n",
    "from IPython.display import display\n",
    "import matplotlib.pyplot as plt\n",
    "import seaborn as sns\n",
    "from sklearn.preprocessing import LabelEncoder\n",
    "from sklearn.metrics import accuracy_score, precision_score, recall_score, f1_score, roc_auc_score, confusion_matrix\n",
    "\n",
    "from sklearn.ensemble import RandomForestClassifier\n",
    "from sklearn.model_selection import GridSearchCV"
   ]
  },
  {
   "cell_type": "markdown",
   "id": "60131069",
   "metadata": {},
   "source": [
    "# Selected stats"
   ]
  },
  {
   "cell_type": "code",
   "execution_count": 2,
   "id": "8b1fd7df",
   "metadata": {},
   "outputs": [
    {
     "data": {
      "text/html": [
       "<div>\n",
       "<style scoped>\n",
       "    .dataframe tbody tr th:only-of-type {\n",
       "        vertical-align: middle;\n",
       "    }\n",
       "\n",
       "    .dataframe tbody tr th {\n",
       "        vertical-align: top;\n",
       "    }\n",
       "\n",
       "    .dataframe thead th {\n",
       "        text-align: right;\n",
       "    }\n",
       "</style>\n",
       "<table border=\"1\" class=\"dataframe\">\n",
       "  <thead>\n",
       "    <tr style=\"text-align: right;\">\n",
       "      <th></th>\n",
       "      <th>date</th>\n",
       "      <th>comp</th>\n",
       "      <th>round</th>\n",
       "      <th>venue</th>\n",
       "      <th>result</th>\n",
       "      <th>gf</th>\n",
       "      <th>ga</th>\n",
       "      <th>opponent</th>\n",
       "      <th>xg</th>\n",
       "      <th>xga</th>\n",
       "      <th>...</th>\n",
       "      <th>crspa_average_opponent</th>\n",
       "      <th>tkl_average_opponent</th>\n",
       "      <th>tklw_average_opponent</th>\n",
       "      <th>blocks_average_opponent</th>\n",
       "      <th>int_average_opponent</th>\n",
       "      <th>clr_average_opponent</th>\n",
       "      <th>touches_average_opponent</th>\n",
       "      <th>att_y_average_opponent</th>\n",
       "      <th>succ_average_opponent</th>\n",
       "      <th>succ%_average_opponent</th>\n",
       "    </tr>\n",
       "  </thead>\n",
       "  <tbody>\n",
       "    <tr>\n",
       "      <th>0</th>\n",
       "      <td>2019-09-20</td>\n",
       "      <td>Bundesliga</td>\n",
       "      <td>Matchweek 5</td>\n",
       "      <td>Away</td>\n",
       "      <td>L</td>\n",
       "      <td>1.0</td>\n",
       "      <td>2.0</td>\n",
       "      <td>Schalke 04</td>\n",
       "      <td>0.8</td>\n",
       "      <td>1.0</td>\n",
       "      <td>...</td>\n",
       "      <td>1.75</td>\n",
       "      <td>20.00</td>\n",
       "      <td>13.75</td>\n",
       "      <td>14.50</td>\n",
       "      <td>11.75</td>\n",
       "      <td>18.00</td>\n",
       "      <td>567.25</td>\n",
       "      <td>13.50</td>\n",
       "      <td>8.25</td>\n",
       "      <td>63.775</td>\n",
       "    </tr>\n",
       "    <tr>\n",
       "      <th>1</th>\n",
       "      <td>2019-09-20</td>\n",
       "      <td>Bundesliga</td>\n",
       "      <td>Matchweek 5</td>\n",
       "      <td>Home</td>\n",
       "      <td>W</td>\n",
       "      <td>2.0</td>\n",
       "      <td>1.0</td>\n",
       "      <td>Mainz 05</td>\n",
       "      <td>1.0</td>\n",
       "      <td>0.8</td>\n",
       "      <td>...</td>\n",
       "      <td>1.50</td>\n",
       "      <td>17.75</td>\n",
       "      <td>11.25</td>\n",
       "      <td>11.25</td>\n",
       "      <td>11.50</td>\n",
       "      <td>21.50</td>\n",
       "      <td>528.75</td>\n",
       "      <td>15.25</td>\n",
       "      <td>7.75</td>\n",
       "      <td>49.675</td>\n",
       "    </tr>\n",
       "    <tr>\n",
       "      <th>2</th>\n",
       "      <td>2019-09-21</td>\n",
       "      <td>Bundesliga</td>\n",
       "      <td>Matchweek 5</td>\n",
       "      <td>Away</td>\n",
       "      <td>D</td>\n",
       "      <td>1.0</td>\n",
       "      <td>1.0</td>\n",
       "      <td>Freiburg</td>\n",
       "      <td>1.0</td>\n",
       "      <td>1.3</td>\n",
       "      <td>...</td>\n",
       "      <td>2.00</td>\n",
       "      <td>14.75</td>\n",
       "      <td>8.25</td>\n",
       "      <td>11.75</td>\n",
       "      <td>6.50</td>\n",
       "      <td>19.25</td>\n",
       "      <td>505.00</td>\n",
       "      <td>16.00</td>\n",
       "      <td>9.50</td>\n",
       "      <td>59.925</td>\n",
       "    </tr>\n",
       "    <tr>\n",
       "      <th>3</th>\n",
       "      <td>2019-09-21</td>\n",
       "      <td>Bundesliga</td>\n",
       "      <td>Matchweek 5</td>\n",
       "      <td>Home</td>\n",
       "      <td>L</td>\n",
       "      <td>0.0</td>\n",
       "      <td>3.0</td>\n",
       "      <td>RB Leipzig</td>\n",
       "      <td>0.7</td>\n",
       "      <td>1.5</td>\n",
       "      <td>...</td>\n",
       "      <td>1.25</td>\n",
       "      <td>19.75</td>\n",
       "      <td>11.50</td>\n",
       "      <td>11.75</td>\n",
       "      <td>13.50</td>\n",
       "      <td>26.00</td>\n",
       "      <td>632.75</td>\n",
       "      <td>18.25</td>\n",
       "      <td>12.00</td>\n",
       "      <td>65.650</td>\n",
       "    </tr>\n",
       "    <tr>\n",
       "      <th>4</th>\n",
       "      <td>2019-09-21</td>\n",
       "      <td>Bundesliga</td>\n",
       "      <td>Matchweek 5</td>\n",
       "      <td>Away</td>\n",
       "      <td>W</td>\n",
       "      <td>3.0</td>\n",
       "      <td>0.0</td>\n",
       "      <td>Werder Bremen</td>\n",
       "      <td>1.5</td>\n",
       "      <td>0.7</td>\n",
       "      <td>...</td>\n",
       "      <td>1.25</td>\n",
       "      <td>11.50</td>\n",
       "      <td>8.00</td>\n",
       "      <td>7.00</td>\n",
       "      <td>5.75</td>\n",
       "      <td>15.75</td>\n",
       "      <td>650.00</td>\n",
       "      <td>9.50</td>\n",
       "      <td>6.00</td>\n",
       "      <td>63.825</td>\n",
       "    </tr>\n",
       "  </tbody>\n",
       "</table>\n",
       "<p>5 rows × 145 columns</p>\n",
       "</div>"
      ],
      "text/plain": [
       "         date        comp        round venue result   gf   ga       opponent  \\\n",
       "0  2019-09-20  Bundesliga  Matchweek 5  Away      L  1.0  2.0     Schalke 04   \n",
       "1  2019-09-20  Bundesliga  Matchweek 5  Home      W  2.0  1.0       Mainz 05   \n",
       "2  2019-09-21  Bundesliga  Matchweek 5  Away      D  1.0  1.0       Freiburg   \n",
       "3  2019-09-21  Bundesliga  Matchweek 5  Home      L  0.0  3.0     RB Leipzig   \n",
       "4  2019-09-21  Bundesliga  Matchweek 5  Away      W  3.0  0.0  Werder Bremen   \n",
       "\n",
       "    xg  xga  ...  crspa_average_opponent  tkl_average_opponent  \\\n",
       "0  0.8  1.0  ...                    1.75                 20.00   \n",
       "1  1.0  0.8  ...                    1.50                 17.75   \n",
       "2  1.0  1.3  ...                    2.00                 14.75   \n",
       "3  0.7  1.5  ...                    1.25                 19.75   \n",
       "4  1.5  0.7  ...                    1.25                 11.50   \n",
       "\n",
       "   tklw_average_opponent  blocks_average_opponent  int_average_opponent  \\\n",
       "0                  13.75                    14.50                 11.75   \n",
       "1                  11.25                    11.25                 11.50   \n",
       "2                   8.25                    11.75                  6.50   \n",
       "3                  11.50                    11.75                 13.50   \n",
       "4                   8.00                     7.00                  5.75   \n",
       "\n",
       "   clr_average_opponent  touches_average_opponent  att_y_average_opponent  \\\n",
       "0                 18.00                    567.25                   13.50   \n",
       "1                 21.50                    528.75                   15.25   \n",
       "2                 19.25                    505.00                   16.00   \n",
       "3                 26.00                    632.75                   18.25   \n",
       "4                 15.75                    650.00                    9.50   \n",
       "\n",
       "   succ_average_opponent  succ%_average_opponent  \n",
       "0                   8.25                  63.775  \n",
       "1                   7.75                  49.675  \n",
       "2                   9.50                  59.925  \n",
       "3                  12.00                  65.650  \n",
       "4                   6.00                  63.825  \n",
       "\n",
       "[5 rows x 145 columns]"
      ]
     },
     "execution_count": 2,
     "metadata": {},
     "output_type": "execute_result"
    }
   ],
   "source": [
    "df = pd.read_pickle(\"../Datasets/matches_full.pkl\")\n",
    "df.head()"
   ]
  },
  {
   "cell_type": "code",
   "execution_count": 3,
   "id": "8dccfdba",
   "metadata": {},
   "outputs": [
    {
     "data": {
      "text/plain": [
       "(2706, 145)"
      ]
     },
     "execution_count": 3,
     "metadata": {},
     "output_type": "execute_result"
    }
   ],
   "source": [
    "df.shape"
   ]
  },
  {
   "cell_type": "code",
   "execution_count": 4,
   "id": "b34a68ee",
   "metadata": {},
   "outputs": [],
   "source": [
    "# train test\n",
    "train = df.loc[:int(df.shape[0]*0.7)]\n",
    "test = df.loc[int(df.shape[0]*0.7)+1:]"
   ]
  },
  {
   "cell_type": "code",
   "execution_count": 5,
   "id": "21011ceb",
   "metadata": {},
   "outputs": [],
   "source": [
    "# selected stats from team\n",
    "selected_stats_from_team = ['gf_average', 'ga_average', 'poss_average', 'sot%_average', 'saves_average', \n",
    "                  'stp_average', '#opa_average', 'kp_average', 'crspa_average', \n",
    "                  'tkl_average', 'blocks_average', 'int_average', 'att_y_average', \n",
    "                            'succ%_average', 'venue_encoded', 'team_encoded']"
   ]
  },
  {
   "cell_type": "code",
   "execution_count": 6,
   "id": "5a78b740",
   "metadata": {},
   "outputs": [
    {
     "data": {
      "text/plain": [
       "['gf_average',\n",
       " 'ga_average',\n",
       " 'poss_average',\n",
       " 'sot%_average',\n",
       " 'saves_average',\n",
       " 'stp_average',\n",
       " '#opa_average',\n",
       " 'kp_average',\n",
       " 'crspa_average',\n",
       " 'tkl_average',\n",
       " 'blocks_average',\n",
       " 'int_average',\n",
       " 'att_y_average',\n",
       " 'succ%_average',\n",
       " 'venue_encoded',\n",
       " 'team_encoded',\n",
       " 'gf_average_opponent',\n",
       " 'ga_average_opponent',\n",
       " 'poss_average_opponent',\n",
       " 'sot%_average_opponent',\n",
       " 'saves_average_opponent',\n",
       " 'stp_average_opponent',\n",
       " '#opa_average_opponent',\n",
       " 'kp_average_opponent',\n",
       " 'crspa_average_opponent',\n",
       " 'tkl_average_opponent',\n",
       " 'blocks_average_opponent',\n",
       " 'int_average_opponent',\n",
       " 'att_y_average_opponent',\n",
       " 'succ%_average_opponent',\n",
       " 'team_encoded_opponent']"
      ]
     },
     "execution_count": 6,
     "metadata": {},
     "output_type": "execute_result"
    }
   ],
   "source": [
    "# select stats\n",
    "selected_stats_from_opponent = [f\"{stat}_opponent\" for stat in selected_stats_from_team]\n",
    "predictors = selected_stats_from_team + selected_stats_from_opponent\n",
    "predictors.remove('venue_encoded_opponent')\n",
    "predictors"
   ]
  },
  {
   "cell_type": "markdown",
   "id": "2748fd8d",
   "metadata": {},
   "source": [
    "# GridsearchCV"
   ]
  },
  {
   "cell_type": "code",
   "execution_count": 7,
   "id": "562a0f9e",
   "metadata": {},
   "outputs": [],
   "source": [
    "rf = RandomForestClassifier()\n",
    "parameters = {'n_estimators':[50,100,200,300], 'min_samples_split':[2, 5, 10, 15, 20], 'max_features':['sqrt', 'log2', None]}"
   ]
  },
  {
   "cell_type": "code",
   "execution_count": 8,
   "id": "60502f1d",
   "metadata": {},
   "outputs": [
    {
     "data": {
      "text/html": [
       "<style>#sk-container-id-1 {color: black;}#sk-container-id-1 pre{padding: 0;}#sk-container-id-1 div.sk-toggleable {background-color: white;}#sk-container-id-1 label.sk-toggleable__label {cursor: pointer;display: block;width: 100%;margin-bottom: 0;padding: 0.3em;box-sizing: border-box;text-align: center;}#sk-container-id-1 label.sk-toggleable__label-arrow:before {content: \"▸\";float: left;margin-right: 0.25em;color: #696969;}#sk-container-id-1 label.sk-toggleable__label-arrow:hover:before {color: black;}#sk-container-id-1 div.sk-estimator:hover label.sk-toggleable__label-arrow:before {color: black;}#sk-container-id-1 div.sk-toggleable__content {max-height: 0;max-width: 0;overflow: hidden;text-align: left;background-color: #f0f8ff;}#sk-container-id-1 div.sk-toggleable__content pre {margin: 0.2em;color: black;border-radius: 0.25em;background-color: #f0f8ff;}#sk-container-id-1 input.sk-toggleable__control:checked~div.sk-toggleable__content {max-height: 200px;max-width: 100%;overflow: auto;}#sk-container-id-1 input.sk-toggleable__control:checked~label.sk-toggleable__label-arrow:before {content: \"▾\";}#sk-container-id-1 div.sk-estimator input.sk-toggleable__control:checked~label.sk-toggleable__label {background-color: #d4ebff;}#sk-container-id-1 div.sk-label input.sk-toggleable__control:checked~label.sk-toggleable__label {background-color: #d4ebff;}#sk-container-id-1 input.sk-hidden--visually {border: 0;clip: rect(1px 1px 1px 1px);clip: rect(1px, 1px, 1px, 1px);height: 1px;margin: -1px;overflow: hidden;padding: 0;position: absolute;width: 1px;}#sk-container-id-1 div.sk-estimator {font-family: monospace;background-color: #f0f8ff;border: 1px dotted black;border-radius: 0.25em;box-sizing: border-box;margin-bottom: 0.5em;}#sk-container-id-1 div.sk-estimator:hover {background-color: #d4ebff;}#sk-container-id-1 div.sk-parallel-item::after {content: \"\";width: 100%;border-bottom: 1px solid gray;flex-grow: 1;}#sk-container-id-1 div.sk-label:hover label.sk-toggleable__label {background-color: #d4ebff;}#sk-container-id-1 div.sk-serial::before {content: \"\";position: absolute;border-left: 1px solid gray;box-sizing: border-box;top: 0;bottom: 0;left: 50%;z-index: 0;}#sk-container-id-1 div.sk-serial {display: flex;flex-direction: column;align-items: center;background-color: white;padding-right: 0.2em;padding-left: 0.2em;position: relative;}#sk-container-id-1 div.sk-item {position: relative;z-index: 1;}#sk-container-id-1 div.sk-parallel {display: flex;align-items: stretch;justify-content: center;background-color: white;position: relative;}#sk-container-id-1 div.sk-item::before, #sk-container-id-1 div.sk-parallel-item::before {content: \"\";position: absolute;border-left: 1px solid gray;box-sizing: border-box;top: 0;bottom: 0;left: 50%;z-index: -1;}#sk-container-id-1 div.sk-parallel-item {display: flex;flex-direction: column;z-index: 1;position: relative;background-color: white;}#sk-container-id-1 div.sk-parallel-item:first-child::after {align-self: flex-end;width: 50%;}#sk-container-id-1 div.sk-parallel-item:last-child::after {align-self: flex-start;width: 50%;}#sk-container-id-1 div.sk-parallel-item:only-child::after {width: 0;}#sk-container-id-1 div.sk-dashed-wrapped {border: 1px dashed gray;margin: 0 0.4em 0.5em 0.4em;box-sizing: border-box;padding-bottom: 0.4em;background-color: white;}#sk-container-id-1 div.sk-label label {font-family: monospace;font-weight: bold;display: inline-block;line-height: 1.2em;}#sk-container-id-1 div.sk-label-container {text-align: center;}#sk-container-id-1 div.sk-container {/* jupyter's `normalize.less` sets `[hidden] { display: none; }` but bootstrap.min.css set `[hidden] { display: none !important; }` so we also need the `!important` here to be able to override the default hidden behavior on the sphinx rendered scikit-learn.org. See: https://github.com/scikit-learn/scikit-learn/issues/21755 */display: inline-block !important;position: relative;}#sk-container-id-1 div.sk-text-repr-fallback {display: none;}</style><div id=\"sk-container-id-1\" class=\"sk-top-container\"><div class=\"sk-text-repr-fallback\"><pre>GridSearchCV(estimator=RandomForestClassifier(),\n",
       "             param_grid={&#x27;max_features&#x27;: [&#x27;sqrt&#x27;, &#x27;log2&#x27;, None],\n",
       "                         &#x27;min_samples_split&#x27;: [2, 5, 10, 15, 20],\n",
       "                         &#x27;n_estimators&#x27;: [50, 100, 200, 300]})</pre><b>In a Jupyter environment, please rerun this cell to show the HTML representation or trust the notebook. <br />On GitHub, the HTML representation is unable to render, please try loading this page with nbviewer.org.</b></div><div class=\"sk-container\" hidden><div class=\"sk-item sk-dashed-wrapped\"><div class=\"sk-label-container\"><div class=\"sk-label sk-toggleable\"><input class=\"sk-toggleable__control sk-hidden--visually\" id=\"sk-estimator-id-1\" type=\"checkbox\" ><label for=\"sk-estimator-id-1\" class=\"sk-toggleable__label sk-toggleable__label-arrow\">GridSearchCV</label><div class=\"sk-toggleable__content\"><pre>GridSearchCV(estimator=RandomForestClassifier(),\n",
       "             param_grid={&#x27;max_features&#x27;: [&#x27;sqrt&#x27;, &#x27;log2&#x27;, None],\n",
       "                         &#x27;min_samples_split&#x27;: [2, 5, 10, 15, 20],\n",
       "                         &#x27;n_estimators&#x27;: [50, 100, 200, 300]})</pre></div></div></div><div class=\"sk-parallel\"><div class=\"sk-parallel-item\"><div class=\"sk-item\"><div class=\"sk-label-container\"><div class=\"sk-label sk-toggleable\"><input class=\"sk-toggleable__control sk-hidden--visually\" id=\"sk-estimator-id-2\" type=\"checkbox\" ><label for=\"sk-estimator-id-2\" class=\"sk-toggleable__label sk-toggleable__label-arrow\">estimator: RandomForestClassifier</label><div class=\"sk-toggleable__content\"><pre>RandomForestClassifier()</pre></div></div></div><div class=\"sk-serial\"><div class=\"sk-item\"><div class=\"sk-estimator sk-toggleable\"><input class=\"sk-toggleable__control sk-hidden--visually\" id=\"sk-estimator-id-3\" type=\"checkbox\" ><label for=\"sk-estimator-id-3\" class=\"sk-toggleable__label sk-toggleable__label-arrow\">RandomForestClassifier</label><div class=\"sk-toggleable__content\"><pre>RandomForestClassifier()</pre></div></div></div></div></div></div></div></div></div></div>"
      ],
      "text/plain": [
       "GridSearchCV(estimator=RandomForestClassifier(),\n",
       "             param_grid={'max_features': ['sqrt', 'log2', None],\n",
       "                         'min_samples_split': [2, 5, 10, 15, 20],\n",
       "                         'n_estimators': [50, 100, 200, 300]})"
      ]
     },
     "execution_count": 8,
     "metadata": {},
     "output_type": "execute_result"
    }
   ],
   "source": [
    "clf = GridSearchCV(rf, param_grid=parameters)\n",
    "clf.fit(train[predictors], train['result_encoded'])"
   ]
  },
  {
   "cell_type": "code",
   "execution_count": 9,
   "id": "b8a18373",
   "metadata": {},
   "outputs": [
    {
     "data": {
      "text/plain": [
       "{'max_features': 'sqrt', 'min_samples_split': 20, 'n_estimators': 200}"
      ]
     },
     "execution_count": 9,
     "metadata": {},
     "output_type": "execute_result"
    }
   ],
   "source": [
    "# best paragrams\n",
    "clf.best_params_"
   ]
  },
  {
   "cell_type": "code",
   "execution_count": 10,
   "id": "a4a8bf7b",
   "metadata": {},
   "outputs": [
    {
     "data": {
      "text/plain": [
       "0.49868073878627966"
      ]
     },
     "execution_count": 10,
     "metadata": {},
     "output_type": "execute_result"
    }
   ],
   "source": [
    "# best score\n",
    "clf.best_score_"
   ]
  },
  {
   "cell_type": "code",
   "execution_count": 11,
   "id": "d8f10c89",
   "metadata": {},
   "outputs": [
    {
     "data": {
      "text/html": [
       "<div>\n",
       "<style scoped>\n",
       "    .dataframe tbody tr th:only-of-type {\n",
       "        vertical-align: middle;\n",
       "    }\n",
       "\n",
       "    .dataframe tbody tr th {\n",
       "        vertical-align: top;\n",
       "    }\n",
       "\n",
       "    .dataframe thead th {\n",
       "        text-align: right;\n",
       "    }\n",
       "</style>\n",
       "<table border=\"1\" class=\"dataframe\">\n",
       "  <thead>\n",
       "    <tr style=\"text-align: right;\">\n",
       "      <th></th>\n",
       "      <th>mean_fit_time</th>\n",
       "      <th>std_fit_time</th>\n",
       "      <th>mean_score_time</th>\n",
       "      <th>std_score_time</th>\n",
       "      <th>param_max_features</th>\n",
       "      <th>param_min_samples_split</th>\n",
       "      <th>param_n_estimators</th>\n",
       "      <th>params</th>\n",
       "      <th>split0_test_score</th>\n",
       "      <th>split1_test_score</th>\n",
       "      <th>split2_test_score</th>\n",
       "      <th>split3_test_score</th>\n",
       "      <th>split4_test_score</th>\n",
       "      <th>mean_test_score</th>\n",
       "      <th>std_test_score</th>\n",
       "      <th>rank_test_score</th>\n",
       "    </tr>\n",
       "  </thead>\n",
       "  <tbody>\n",
       "    <tr>\n",
       "      <th>18</th>\n",
       "      <td>1.655861</td>\n",
       "      <td>0.062637</td>\n",
       "      <td>0.040839</td>\n",
       "      <td>0.013371</td>\n",
       "      <td>sqrt</td>\n",
       "      <td>20</td>\n",
       "      <td>200</td>\n",
       "      <td>{'max_features': 'sqrt', 'min_samples_split': ...</td>\n",
       "      <td>0.522427</td>\n",
       "      <td>0.556728</td>\n",
       "      <td>0.496042</td>\n",
       "      <td>0.469657</td>\n",
       "      <td>0.448549</td>\n",
       "      <td>0.498681</td>\n",
       "      <td>0.038199</td>\n",
       "      <td>1</td>\n",
       "    </tr>\n",
       "  </tbody>\n",
       "</table>\n",
       "</div>"
      ],
      "text/plain": [
       "    mean_fit_time  std_fit_time  mean_score_time  std_score_time  \\\n",
       "18       1.655861      0.062637         0.040839        0.013371   \n",
       "\n",
       "   param_max_features param_min_samples_split param_n_estimators  \\\n",
       "18               sqrt                      20                200   \n",
       "\n",
       "                                               params  split0_test_score  \\\n",
       "18  {'max_features': 'sqrt', 'min_samples_split': ...           0.522427   \n",
       "\n",
       "    split1_test_score  split2_test_score  split3_test_score  \\\n",
       "18           0.556728           0.496042           0.469657   \n",
       "\n",
       "    split4_test_score  mean_test_score  std_test_score  rank_test_score  \n",
       "18           0.448549         0.498681        0.038199                1  "
      ]
     },
     "execution_count": 11,
     "metadata": {},
     "output_type": "execute_result"
    }
   ],
   "source": [
    "# the rows with rank 1\n",
    "pd.DataFrame(clf.cv_results_)[pd.DataFrame(clf.cv_results_)['rank_test_score']==1]"
   ]
  },
  {
   "cell_type": "markdown",
   "id": "d203586e",
   "metadata": {},
   "source": [
    "# Evaluation"
   ]
  },
  {
   "cell_type": "code",
   "execution_count": 17,
   "id": "71a9609a",
   "metadata": {},
   "outputs": [
    {
     "name": "stdout",
     "output_type": "stream",
     "text": [
      "Accuracy on test set 0.5351418002466092\n",
      "Accuracy on training set 0.9308707124010555\n"
     ]
    }
   ],
   "source": [
    "# check accuracy\n",
    "rf = RandomForestClassifier(n_estimators=200, min_samples_split=20)\n",
    "rf.fit(train[predictors], train['result_encoded'])\n",
    "\n",
    "prob_preds = rf.predict_proba(test[predictors])\n",
    "preds = rf.predict(test[predictors])\n",
    "\n",
    "print(\"Accuracy on test set\", accuracy_score(test['result_encoded'], preds))\n",
    "\n",
    "preds_on_training = rf.predict(train[predictors])\n",
    "print(\"Accuracy on training set\", accuracy_score(train['result_encoded'], preds_on_training))"
   ]
  },
  {
   "cell_type": "code",
   "execution_count": 18,
   "id": "330bff9f",
   "metadata": {},
   "outputs": [
    {
     "data": {
      "image/png": "[encoded data removed]",
      "text/plain": [
       "<Figure size 800x600 with 1 Axes>"
      ]
     },
     "metadata": {},
     "output_type": "display_data"
    }
   ],
   "source": [
    "# confusion matrix\n",
    "cm = confusion_matrix(test['result_encoded'], preds)\n",
    "\n",
    "# Visualize confusion matrix\n",
    "plt.figure(figsize=(8, 6))\n",
    "sns.heatmap(cm, annot=True, fmt='d', cmap='Blues', cbar=False)\n",
    "plt.xlabel('Predicted labels')\n",
    "plt.ylabel('True labels')\n",
    "plt.title('Confusion Matrix')\n",
    "plt.show()"
   ]
  },
  {
   "cell_type": "markdown",
   "id": "c1a84f70",
   "metadata": {},
   "source": [
    "- Win = 2\n",
    "- Draw = 0\n",
    "- Lose = 1"
   ]
  },
  {
   "cell_type": "code",
   "execution_count": 19,
   "id": "4e375251",
   "metadata": {},
   "outputs": [
    {
     "name": "stdout",
     "output_type": "stream",
     "text": [
      "precision of the model with average = micro: 0.5351418002466092 \n",
      "\n",
      "precision of the model with average = macro: 0.4610103300579491 \n",
      "\n",
      "precision of the model with average = weighted: 0.4830592532944127 \n",
      "\n",
      "recall of the model with average = micro: 0.5351418002466092 \n",
      "\n",
      "recall of the model with average = macro: 0.47675032241041054 \n",
      "\n",
      "recall of the model with average = weighted: 0.5351418002466092 \n",
      "\n",
      "f1 of the model with average = micro: 0.5351418002466092 \n",
      "\n",
      "f1 of the model with average = macro: 0.43028398690265207 \n",
      "\n",
      "f1 of the model with average = weighted: 0.47834967565725856 \n",
      "\n"
     ]
    }
   ],
   "source": [
    "metrics = [precision_score, recall_score, f1_score]\n",
    "averages = ['micro', 'macro', 'weighted']\n",
    "\n",
    "for metric in metrics:\n",
    "    for average in averages:\n",
    "        name = metric.__name__.replace(\"_score\",\"\")\n",
    "        print(f\"{name} of the model with average = {average}:\",  metric(test['result_encoded'], preds, average=average), \"\\n\")"
   ]
  },
  {
   "cell_type": "markdown",
   "id": "18c2143a",
   "metadata": {},
   "source": [
    "# features importance"
   ]
  },
  {
   "cell_type": "code",
   "execution_count": 20,
   "id": "8ca8d097",
   "metadata": {},
   "outputs": [],
   "source": [
    "# Get feature importances\n",
    "importances = rf.feature_importances_\n",
    "\n",
    "# Sort feature importances in descending order\n",
    "indices = np.argsort(importances)[::-1]"
   ]
  },
  {
   "cell_type": "code",
   "execution_count": 21,
   "id": "0ffa654a",
   "metadata": {},
   "outputs": [
    {
     "name": "stdout",
     "output_type": "stream",
     "text": [
      "Feature ranking:\n",
      "1. gf_average (0.06141765877128059)\n",
      "2. ga_average (0.05925460736488213)\n",
      "3. poss_average (0.041171373708106536)\n",
      "4. sot%_average (0.04082964041498697)\n",
      "5. saves_average (0.040117988916307294)\n",
      "6. stp_average (0.039171768724785144)\n",
      "7. #opa_average (0.0383021075500802)\n",
      "8. kp_average (0.03829312657795671)\n",
      "9. crspa_average (0.03747270060330711)\n",
      "10. tkl_average (0.03744028343727566)\n",
      "11. blocks_average (0.03559977134229823)\n",
      "12. int_average (0.03432674464967807)\n",
      "13. att_y_average (0.03406157124085382)\n",
      "14. succ%_average (0.03293086497705794)\n",
      "15. venue_encoded (0.03264219168440991)\n",
      "16. team_encoded (0.03219882922796285)\n",
      "17. gf_average_opponent (0.03168955957113407)\n",
      "18. ga_average_opponent (0.030889107030019153)\n",
      "19. poss_average_opponent (0.030193587002258288)\n",
      "20. sot%_average_opponent (0.02959168763975943)\n",
      "21. saves_average_opponent (0.027966443882056262)\n",
      "22. stp_average_opponent (0.027835287323692184)\n",
      "23. #opa_average_opponent (0.02668500821719778)\n",
      "24. kp_average_opponent (0.026134844496311146)\n",
      "25. crspa_average_opponent (0.024659220291211457)\n",
      "26. tkl_average_opponent (0.024349360765002312)\n",
      "27. blocks_average_opponent (0.02168666403087199)\n",
      "28. int_average_opponent (0.0216751975330268)\n",
      "29. att_y_average_opponent (0.015710330972784937)\n",
      "30. succ%_average_opponent (0.01564752716503514)\n",
      "31. team_encoded_opponent (0.010054944888410078)\n"
     ]
    }
   ],
   "source": [
    "print(\"Feature ranking:\")\n",
    "for f in range(train[predictors].shape[1]):\n",
    "    print(f\"{f + 1}. {predictors[f]} ({importances[indices[f]]})\")"
   ]
  },
  {
   "cell_type": "code",
   "execution_count": null,
   "id": "618f6ac7",
   "metadata": {},
   "outputs": [],
   "source": []
  }
 ],
 "metadata": {
  "kernelspec": {
   "display_name": "Python 3 (ipykernel)",
   "language": "python",
   "name": "python3"
  },
  "language_info": {
   "codemirror_mode": {
    "name": "ipython",
    "version": 3
   },
   "file_extension": ".py",
   "mimetype": "text/x-python",
   "name": "python",
   "nbconvert_exporter": "python",
   "pygments_lexer": "ipython3",
   "version": "3.11.5"
  },
  "toc": {
   "base_numbering": 1,
   "nav_menu": {},
   "number_sections": true,
   "sideBar": true,
   "skip_h1_title": false,
   "title_cell": "Table of Contents",
   "title_sidebar": "Contents",
   "toc_cell": false,
   "toc_position": {},
   "toc_section_display": true,
   "toc_window_display": false
  },
  "varInspector": {
   "cols": {
    "lenName": 16,
    "lenType": 16,
    "lenVar": 40
   },
   "kernels_config": {
    "python": {
     "delete_cmd_postfix": "",
     "delete_cmd_prefix": "del ",
     "library": "var_list.py",
     "varRefreshCmd": "print(var_dic_list())"
    },
    "r": {
     "delete_cmd_postfix": ") ",
     "delete_cmd_prefix": "rm(",
     "library": "var_list.r",
     "varRefreshCmd": "cat(var_dic_list()) "
    }
   },
   "types_to_exclude": [
    "module",
    "function",
    "builtin_function_or_method",
    "instance",
    "_Feature"
   ],
   "window_display": false
  }
 },
 "nbformat": 4,
 "nbformat_minor": 5
}
